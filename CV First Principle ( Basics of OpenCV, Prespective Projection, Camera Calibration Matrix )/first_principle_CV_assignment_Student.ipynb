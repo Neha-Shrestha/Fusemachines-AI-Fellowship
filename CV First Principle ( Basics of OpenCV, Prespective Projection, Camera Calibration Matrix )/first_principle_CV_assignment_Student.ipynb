{
  "cells": [
    {
      "cell_type": "markdown",
      "id": "5574773e-d721-4edc-81dd-2226bcb76e9f",
      "metadata": {
        "id": "5574773e-d721-4edc-81dd-2226bcb76e9f"
      },
      "source": [
        "### Exercise-1 Task-1: Basics of OpenCV\n",
        "Load an image, convert it to grayscale, resize it to half its original dimensions, and save the manipulated image as output.jpg.\n",
        "\n",
        "<h4>Points: 3</h4>"
      ]
    },
    {
      "cell_type": "code",
      "execution_count": 1,
      "id": "62b6166e-d89f-4d8d-8d07-fdd6e7ddad3c",
      "metadata": {
        "editable": true,
        "nbgrader": {
          "grade": false,
          "grade_id": "cell-a0ff530149f9965c",
          "locked": false,
          "schema_version": 3,
          "solution": true,
          "task": false
        },
        "tags": [
          "### Ex-1-Task-1"
        ],
        "colab": {
          "base_uri": "https://localhost:8080/"
        },
        "id": "62b6166e-d89f-4d8d-8d07-fdd6e7ddad3c",
        "outputId": "3d30d683-6609-48b7-eb65-a2aa2ae8a9ac"
      },
      "outputs": [
        {
          "output_type": "execute_result",
          "data": {
            "text/plain": [
              "True"
            ]
          },
          "metadata": {},
          "execution_count": 1
        }
      ],
      "source": [
        "### Ex-1-Task-1\n",
        "\n",
        "import cv2\n",
        "import os\n",
        "\n",
        "image_path = None  # Path to the image\n",
        "image = None\n",
        "gray_image = None\n",
        "resized_image = None\n",
        "\n",
        "# Task: Load an image, convert it to grayscale, resize it to half its original dimensions, and save the manipulated image as output.jpg.\n",
        "\n",
        "### BEGIN SOLUTION\n",
        "### Ex-1-Task-1\n",
        "\n",
        "image_path ='image.png'\n",
        "image = cv2.imread(image_path)\n",
        "gray_image = cv2.cvtColor(image, cv2.COLOR_BGR2GRAY)\n",
        "resized_image = cv2.resize(gray_image, (gray_image.shape[1]//2, gray_image.shape[0]//2))\n",
        "cv2.imwrite(\"output.jpg\", resized_image)\n",
        "\n",
        "### END SOLUTION"
      ]
    },
    {
      "cell_type": "markdown",
      "id": "a11ef03e-79ea-4d06-8374-9c30f776f004",
      "metadata": {
        "id": "a11ef03e-79ea-4d06-8374-9c30f776f004"
      },
      "source": [
        "### Exercise-2 Task-1: Perspective Projection\n",
        "Objective: Implement the perspective projection equation.\n",
        "\n",
        "Instructions:\n",
        "\n",
        "Implement the perspective projection of a 3D point (X, Y, Z) onto a 2D image plane using the pinhole camera model.\n",
        "Use the focal length (𝑓)\n",
        "\n",
        "<h4>Points: 2</h4>"
      ]
    },
    {
      "cell_type": "code",
      "execution_count": 2,
      "id": "b297ee96-7734-44b6-bef6-e0ded24635d0",
      "metadata": {
        "editable": true,
        "nbgrader": {
          "grade": false,
          "grade_id": "cell-4631ee6e7098c103",
          "locked": false,
          "schema_version": 3,
          "solution": true,
          "task": false
        },
        "tags": [
          "### Ex-2-Task-1"
        ],
        "id": "b297ee96-7734-44b6-bef6-e0ded24635d0"
      },
      "outputs": [],
      "source": [
        "### Ex-2-Task-1\n",
        "\n",
        "\n",
        "def perspective_projection(X, Y, Z, f):\n",
        "    x = None\n",
        "    y = None\n",
        "    # Task: Implement the perspective projection of a 3D point (X, Y, Z) onto a 2D image plane using the pinhole camera model.\n",
        "    ### BEGIN SOLUTION\n",
        "    x = f * X / Z\n",
        "    y = f * Y / Z\n",
        "    ### END SOLUTION\n",
        "    return x, y\n",
        "\n",
        "# Example\n",
        "X = 1  # X coordinate of the 3D point\n",
        "Y = 1  # Y coordinate of the 3D point\n",
        "Z = 1  # Z coordinate of the 3D point\n",
        "f = 2  # Focal length\n",
        "projected_point = perspective_projection(X, Y, Z, f)"
      ]
    },
    {
      "cell_type": "markdown",
      "id": "37d3ef0d-f8e9-44cc-8e6c-1c85d8c9eb77",
      "metadata": {
        "id": "37d3ef0d-f8e9-44cc-8e6c-1c85d8c9eb77"
      },
      "source": [
        "### Exercise-2 Task-2: Camera Calibration Matrix\n",
        "Objective: Create a camera calibration matrix for intrinsic parameters.\n",
        "\n",
        "Instructions:\n",
        "\n",
        "Construct a camera calibration matrix using the intrinsic parameters: focal length (f), and principal point coordinates (cx, cy).\n",
        "\n",
        "<h4>Points: 3</h4>"
      ]
    },
    {
      "cell_type": "code",
      "execution_count": 3,
      "id": "79d2549f-a6fb-4eb8-b860-66a167e2ae96",
      "metadata": {
        "editable": true,
        "nbgrader": {
          "grade": false,
          "grade_id": "cell-f14db7085a1c3e53",
          "locked": false,
          "schema_version": 3,
          "solution": true,
          "task": false
        },
        "tags": [
          "### Ex-2-Task-2"
        ],
        "id": "79d2549f-a6fb-4eb8-b860-66a167e2ae96"
      },
      "outputs": [],
      "source": [
        "### Ex-2-Task-2\n",
        "import numpy as np\n",
        "\n",
        "def camera_calibration_matrix(f, cx, cy):\n",
        "    K = None\n",
        "    # Task: Construct a camera calibration matrix using the intrinsic parameters: focal length (f), and principal point coordinates (cx, cy).\n",
        "    ### BEGIN SOLUTION\n",
        "    K = np.array([[f, 0, cx],\n",
        "                  [0, f, cy],\n",
        "                  [0, 0, 1]])\n",
        "    ### END SOLUTION\n",
        "    return K\n",
        "\n",
        "# Example\n",
        "f = None  # Focal length\n",
        "cx = None  # Principal point x-coordinate\n",
        "cy = None  # Principal point y-coordinate\n",
        "calibration_matrix = camera_calibration_matrix(f, cx, cy)"
      ]
    },
    {
      "cell_type": "markdown",
      "id": "f70055ff-4da5-44d5-9f91-0812f6b6558c",
      "metadata": {
        "id": "f70055ff-4da5-44d5-9f91-0812f6b6558c"
      },
      "source": [
        "### Exercise-2 Task-3: World to Camera Coordinates\n",
        "Objective: Transform world coordinates to camera coordinates.\n",
        "\n",
        "Instructions:\n",
        "\n",
        "Implement the transformation from world coordinates (Xw, Yw, Zw) to camera coordinates (Xc, Yc, Zc) using a given rotation matrix 𝑅 and translation vector 𝑡.\n",
        "\n",
        "<h4>Points: 5</h4>"
      ]
    },
    {
      "cell_type": "code",
      "execution_count": 4,
      "id": "14593ce2-e2c4-4079-834b-6bf1c7d2f4c4",
      "metadata": {
        "editable": true,
        "nbgrader": {
          "grade": false,
          "grade_id": "cell-3da5634c917da189",
          "locked": false,
          "schema_version": 3,
          "solution": true,
          "task": false
        },
        "tags": [
          "### Ex-2-Task-3"
        ],
        "id": "14593ce2-e2c4-4079-834b-6bf1c7d2f4c4"
      },
      "outputs": [],
      "source": [
        "### Ex-2-Task-3\n",
        "\n",
        "def world_to_camera_coordinates(Xw, Yw, Zw, R, t):\n",
        "    Xc, Yc, Zc = None, None, None\n",
        "\n",
        "    # Task: Implement the transformation from world coordinates (Xw, Yw, Zw) to camera coordinates (Xc, Yc, Zc) using a given rotation matrix R and translation vector t.\n",
        "    ### BEGIN SOLUTION\n",
        "    world_point = np.array([Xw, Yw, Zw])\n",
        "    camera_point = np.dot(R, world_point) + t\n",
        "    Xc, Yc, Zc = camera_point\n",
        "    ### END SOLUTION\n",
        "    return Xc, Yc, Zc\n",
        "\n",
        "# Example\n",
        "Xw = 10  # X coordinate in world coordinates\n",
        "Yw = 20  # Y coordinate in world coordinates\n",
        "Zw = 30  # Z coordinate in world coordinates\n",
        "R = np.eye(3)  # Rotation matrix\n",
        "t = np.array([5,5,5])  # Translation vector\n",
        "camera_coordinates = world_to_camera_coordinates(Xw, Yw, Zw, R, t)"
      ]
    },
    {
      "cell_type": "markdown",
      "id": "00e5a9be-49ee-42a0-9867-d7ec95d1f436",
      "metadata": {
        "id": "00e5a9be-49ee-42a0-9867-d7ec95d1f436"
      },
      "source": [
        "### Exercise-2 Task-4: Calculating Field of View (FOV)\n",
        "Objective: Calculate the field of view given the sensor size and focal length.\n",
        "\n",
        "Instructions:\n",
        "Implement a function to calculate the horizontal field of view (in degrees) of a pinhole camera given the sensor width and focal length.\n",
        "\n",
        "![image.png](attachment:df5b14ae-af99-4dc3-974a-a65e897744c4.png)\n",
        "\n",
        "<h4>Points: 2</h4>\n"
      ]
    },
    {
      "cell_type": "code",
      "execution_count": 5,
      "id": "6cdc4c6c-ad1f-45b6-8b27-6fe8e5172fc1",
      "metadata": {
        "editable": true,
        "nbgrader": {
          "grade": false,
          "grade_id": "cell-a015fe5799e01d1c",
          "locked": false,
          "schema_version": 3,
          "solution": true,
          "task": false
        },
        "tags": [
          "### Ex-2-Task-4"
        ],
        "id": "6cdc4c6c-ad1f-45b6-8b27-6fe8e5172fc1"
      },
      "outputs": [],
      "source": [
        "### Ex-2-Task-4\n",
        "\n",
        "import numpy as np\n",
        "\n",
        "\n",
        "def calculate_fov(sensor_width, focal_length):\n",
        "    fov = None\n",
        "    # Task: Implement a function to calculate the horizontal field of view (in degrees) of a pinhole camera.\n",
        "    ### BEGIN SOLUTION\n",
        "    fov = 2 * np.arctan(sensor_width / (2 * focal_length)) * (180 / np.pi)\n",
        "    ### END SOLUTION\n",
        "    return fov\n",
        "\n",
        "# Example\n",
        "sensor_width = 36  # Sensor width in mm\n",
        "focal_length = 50  # Focal length in mm\n",
        "field_of_view = calculate_fov(sensor_width, focal_length)"
      ]
    },
    {
      "cell_type": "code",
      "source": [],
      "metadata": {
        "id": "wjRqViEwaQeF"
      },
      "id": "wjRqViEwaQeF",
      "execution_count": null,
      "outputs": []
    }
  ],
  "metadata": {
    "kernelspec": {
      "display_name": "Python 3 (ipykernel)",
      "language": "python",
      "name": "python3"
    },
    "language_info": {
      "codemirror_mode": {
        "name": "ipython",
        "version": 3
      },
      "file_extension": ".py",
      "mimetype": "text/x-python",
      "name": "python",
      "nbconvert_exporter": "python",
      "pygments_lexer": "ipython3",
      "version": "3.9.19"
    },
    "colab": {
      "provenance": []
    }
  },
  "nbformat": 4,
  "nbformat_minor": 5
}