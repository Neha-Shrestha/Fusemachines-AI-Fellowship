{
  "cells": [
    {
      "cell_type": "markdown",
      "metadata": {
        "deletable": false,
        "editable": false,
        "id": "_Z-N7Ylp0-Gi",
        "nbgrader": {
          "cell_type": "markdown",
          "checksum": "b0ce13b5ea561fdc64db96b3016ced66",
          "grade": false,
          "grade_id": "cell-5c7c35e5db56651f",
          "locked": true,
          "schema_version": 3,
          "solution": false,
          "task": false
        }
      },
      "source": [
        "# Machine Translation using Sequence to Sequence LSTM networks\n"
      ]
    },
    {
      "cell_type": "markdown",
      "metadata": {
        "deletable": false,
        "editable": false,
        "id": "7BEzkQrJ0-Gn",
        "nbgrader": {
          "cell_type": "markdown",
          "checksum": "c09f58dd19c22fd8c14a82ecfdb3ad36",
          "grade": false,
          "grade_id": "cell-86a6d09c34d33f25",
          "locked": true,
          "schema_version": 3,
          "solution": false,
          "task": false
        }
      },
      "source": [
        "Machine translation refers to the use of machines or software to translate text to speech or speech from one language to another language.\n",
        "\n",
        "In this assignment we will work out the demonstration of how we can apply the LSTM networks to translate speech from one language to another.\n",
        "\n",
        "We will be translating sequences from English to Chinese.\n"
      ]
    },
    {
      "cell_type": "markdown",
      "metadata": {
        "deletable": false,
        "editable": false,
        "id": "pGuEgkXT0-Gn",
        "nbgrader": {
          "cell_type": "markdown",
          "checksum": "aaf14ad60b6057ae5ef2f283fae3a801",
          "grade": false,
          "grade_id": "cell-e29498e719ab95c6",
          "locked": true,
          "schema_version": 3,
          "solution": false,
          "task": false
        }
      },
      "source": [
        "## Datasets\n",
        "\n",
        "We will be using this dataset. https://www.manythings.org/anki/cmn-eng.zip.\n",
        "\n",
        "Few samples of the dataset looks as follows:\n",
        "\n",
        "**$ENGLISH \\hspace{10mm} CHINESE$**\n",
        "\n",
        "$Go. \\hspace{30mm} 走 $\n",
        "\n",
        "$Run! \\hspace{30mm} 跑!$\n",
        "\n",
        "$Fire! \\hspace{30mm} A火！$\n",
        "\n",
        "$Help! \\hspace{30mm} 救命!$\n",
        "\n",
        "$Jump. \\hspace{30mm} 跳.$\n",
        "\n",
        "$Stop! \\hspace{30mm} 停止!$\n",
        "\n",
        "We can see that on the left column, we have a list of english sequences like, GO, RUN, FIRE, HELP, etc and on the right we have their respective CHINESE tranlsations.\n",
        "\n",
        "Here, the input to the model will be the list of English sentences and the target will be the list of Chinese translations.\n",
        "\n",
        "Here in the dataset,\n",
        "\n",
        "We will follow the following steps duing the machine translation:\n",
        "\n",
        "1. Preprocess the training sequenes\n",
        "2. Develop sequence to sequence LSTM model\n",
        "3. Train LSTM model\n",
        "4. Evalute model by testing the results\n"
      ]
    },
    {
      "cell_type": "markdown",
      "metadata": {
        "deletable": false,
        "editable": false,
        "id": "AxGshOMk6_n9",
        "nbgrader": {
          "cell_type": "markdown",
          "checksum": "7fc6f0c2167c4587dc68f0dcbeeac76e",
          "grade": false,
          "grade_id": "cell-322635f771076732",
          "locked": true,
          "schema_version": 3,
          "solution": false,
          "task": false
        }
      },
      "source": [
        "### Importing necessary libraries\n",
        "\n",
        "**string**\n",
        "- For commong string operations and constants\n",
        "\n",
        "**random**\n",
        "- To generate pseudo-random numbers and selection\n",
        "\n",
        "**numpy**\n",
        "- For numerical operations and array handling\n",
        "- check [NumPy Quickstart](https://numpy.org/doc/stable/user/quickstart.html)\n",
        "\n",
        "**torch**\n",
        "- Deep Learning Framework for building and training models\n",
        "- For more information: [click_here](https://pytorch.org/docs/stable/torch.html)\n",
        "\n",
        "**Regex Module**  \n",
        "- python has a built-in package called `re`, which can be used to work with Regular Expressions.\n",
        "- For more information: [click_here](https://docs.python.org/3/library/re.html)\n",
        "- Other Links: [W3 School - Python RegEx](https://www.w3schools.com/python/python_regex.asp)\n",
        "\n",
        "**train_test_split**   \n",
        "- Later we will create 2 splits i.e. training split for training our model and Validation split where we evaluate our trained model.\n",
        "- For this we will use `train_test_split` from scikit-learn package.\n",
        "- For more information on train_test_split: [click_here](https://scikit-learn.org/stable/modules/generated/sklearn.model_selection.train_test_split.html)"
      ]
    },
    {
      "cell_type": "code",
      "execution_count": 1,
      "metadata": {
        "deletable": false,
        "editable": false,
        "id": "ZCo5hAFPw6MR",
        "nbgrader": {
          "cell_type": "code",
          "checksum": "453a2c02cdbbb02cb0046e352998d837",
          "grade": false,
          "grade_id": "cell-92d78258255f0c3e",
          "locked": true,
          "schema_version": 3,
          "solution": false,
          "task": false
        }
      },
      "outputs": [],
      "source": [
        "import re\n",
        "import string\n",
        "import random\n",
        "from typing import Optional\n",
        "import numpy as np\n",
        "import pandas as pd\n",
        "import torch\n",
        "from torch import nn\n",
        "\n",
        "from sklearn.utils import shuffle\n",
        "from sklearn.model_selection import train_test_split"
      ]
    },
    {
      "cell_type": "code",
      "execution_count": 2,
      "metadata": {
        "deletable": false,
        "editable": false,
        "id": "UrdGrSJoxC3o",
        "nbgrader": {
          "cell_type": "code",
          "checksum": "fe69062cf677017d2c47b789df0f9a32",
          "grade": false,
          "grade_id": "cell-64ea11783dd9398f",
          "locked": true,
          "schema_version": 3,
          "solution": false,
          "task": false
        }
      },
      "outputs": [],
      "source": [
        "# from google.colab import drive\n",
        "# drive.mount('/content/drive')"
      ]
    },
    {
      "cell_type": "markdown",
      "metadata": {
        "deletable": false,
        "editable": false,
        "id": "vU1L7fAckbxe",
        "nbgrader": {
          "cell_type": "markdown",
          "checksum": "ca7a41a47f2a4f4c921145cb562375bc",
          "grade": false,
          "grade_id": "cell-949aff3298d2f0f0",
          "locked": true,
          "schema_version": 3,
          "solution": false,
          "task": false
        }
      },
      "source": [
        "Let's read the dataset from the directory.\n"
      ]
    },
    {
      "cell_type": "markdown",
      "metadata": {
        "deletable": false,
        "editable": false,
        "id": "mQgGzF147E-j",
        "nbgrader": {
          "cell_type": "markdown",
          "checksum": "56425b9d799dd5ce1268301ab7c58c7e",
          "grade": false,
          "grade_id": "cell-f81b84edf1b80a87",
          "locked": true,
          "schema_version": 3,
          "solution": false,
          "task": false
        }
      },
      "source": [
        "### Reading the datasets  \n",
        "- Download  https://www.manythings.org/anki/cmn-eng.zip.\n",
        "- Unzip `cmn-eng.zip`\n",
        "- Upload `cmn.txt` file to Google Colab\n"
      ]
    },
    {
      "cell_type": "code",
      "execution_count": 3,
      "metadata": {
        "deletable": false,
        "editable": false,
        "id": "9VCyVeGew6MT",
        "nbgrader": {
          "cell_type": "code",
          "checksum": "fcc930cecb546092836f694d5b4ce982",
          "grade": false,
          "grade_id": "cell-3cdcf87702aba82a",
          "locked": true,
          "schema_version": 3,
          "solution": false,
          "task": false
        },
        "colab": {
          "base_uri": "https://localhost:8080/",
          "height": 597
        },
        "outputId": "1624cbff-872c-45bf-c154-956f12682ce7"
      },
      "outputs": [
        {
          "output_type": "execute_result",
          "data": {
            "text/plain": [
              "                                                     eng  \\\n",
              "0                                                    Hi.   \n",
              "1                                                    Hi.   \n",
              "2                                                   Run.   \n",
              "3                                                  Wait!   \n",
              "4                                                  Wait!   \n",
              "...                                                  ...   \n",
              "24021  Tom didn't know how to translate the word \"com...   \n",
              "24022  Even now, I occasionally think I'd like to see...   \n",
              "24023  It's very easy to sound natural in your own na...   \n",
              "24024  I got fired from the company, but since I have...   \n",
              "24025  If a person has not had a chance to acquire hi...   \n",
              "\n",
              "                                               chin  \\\n",
              "0                                                嗨。   \n",
              "1                                               你好。   \n",
              "2                                             你用跑的。   \n",
              "3                                               等等！   \n",
              "4                                              等一下！   \n",
              "...                                             ...   \n",
              "24021               汤姆不知如何翻译“计算机”一词，因为同他谈话的人从未见过一台。   \n",
              "24022            即使是现在，我偶尔还是想见到你。不是今天的你，而是我记忆中曾经的你。   \n",
              "24023                  你很容易把母语说得通顺流畅，却很容易把非母语说得不自然。   \n",
              "24024              虽然我被公司解雇了，但是我还有点存款，所以目前不用担心生计问题。   \n",
              "24025  如果一個人在成人前沒有機會習得目標語言，他對該語言的認識達到母語者程度的機會是相當小的。   \n",
              "\n",
              "                                                    info  \n",
              "0      CC-BY 2.0 (France) Attribution: tatoeba.org #5...  \n",
              "1      CC-BY 2.0 (France) Attribution: tatoeba.org #5...  \n",
              "2      CC-BY 2.0 (France) Attribution: tatoeba.org #4...  \n",
              "3      CC-BY 2.0 (France) Attribution: tatoeba.org #1...  \n",
              "4      CC-BY 2.0 (France) Attribution: tatoeba.org #1...  \n",
              "...                                                  ...  \n",
              "24021  CC-BY 2.0 (France) Attribution: tatoeba.org #1...  \n",
              "24022  CC-BY 2.0 (France) Attribution: tatoeba.org #1...  \n",
              "24023  CC-BY 2.0 (France) Attribution: tatoeba.org #1...  \n",
              "24024  CC-BY 2.0 (France) Attribution: tatoeba.org #1...  \n",
              "24025  CC-BY 2.0 (France) Attribution: tatoeba.org #1...  \n",
              "\n",
              "[24026 rows x 3 columns]"
            ],
            "text/html": [
              "\n",
              "  <div id=\"df-cbedda76-8527-443c-90b7-aedc7a31461b\" class=\"colab-df-container\">\n",
              "    <div>\n",
              "<style scoped>\n",
              "    .dataframe tbody tr th:only-of-type {\n",
              "        vertical-align: middle;\n",
              "    }\n",
              "\n",
              "    .dataframe tbody tr th {\n",
              "        vertical-align: top;\n",
              "    }\n",
              "\n",
              "    .dataframe thead th {\n",
              "        text-align: right;\n",
              "    }\n",
              "</style>\n",
              "<table border=\"1\" class=\"dataframe\">\n",
              "  <thead>\n",
              "    <tr style=\"text-align: right;\">\n",
              "      <th></th>\n",
              "      <th>eng</th>\n",
              "      <th>chin</th>\n",
              "      <th>info</th>\n",
              "    </tr>\n",
              "  </thead>\n",
              "  <tbody>\n",
              "    <tr>\n",
              "      <th>0</th>\n",
              "      <td>Hi.</td>\n",
              "      <td>嗨。</td>\n",
              "      <td>CC-BY 2.0 (France) Attribution: tatoeba.org #5...</td>\n",
              "    </tr>\n",
              "    <tr>\n",
              "      <th>1</th>\n",
              "      <td>Hi.</td>\n",
              "      <td>你好。</td>\n",
              "      <td>CC-BY 2.0 (France) Attribution: tatoeba.org #5...</td>\n",
              "    </tr>\n",
              "    <tr>\n",
              "      <th>2</th>\n",
              "      <td>Run.</td>\n",
              "      <td>你用跑的。</td>\n",
              "      <td>CC-BY 2.0 (France) Attribution: tatoeba.org #4...</td>\n",
              "    </tr>\n",
              "    <tr>\n",
              "      <th>3</th>\n",
              "      <td>Wait!</td>\n",
              "      <td>等等！</td>\n",
              "      <td>CC-BY 2.0 (France) Attribution: tatoeba.org #1...</td>\n",
              "    </tr>\n",
              "    <tr>\n",
              "      <th>4</th>\n",
              "      <td>Wait!</td>\n",
              "      <td>等一下！</td>\n",
              "      <td>CC-BY 2.0 (France) Attribution: tatoeba.org #1...</td>\n",
              "    </tr>\n",
              "    <tr>\n",
              "      <th>...</th>\n",
              "      <td>...</td>\n",
              "      <td>...</td>\n",
              "      <td>...</td>\n",
              "    </tr>\n",
              "    <tr>\n",
              "      <th>24021</th>\n",
              "      <td>Tom didn't know how to translate the word \"com...</td>\n",
              "      <td>汤姆不知如何翻译“计算机”一词，因为同他谈话的人从未见过一台。</td>\n",
              "      <td>CC-BY 2.0 (France) Attribution: tatoeba.org #1...</td>\n",
              "    </tr>\n",
              "    <tr>\n",
              "      <th>24022</th>\n",
              "      <td>Even now, I occasionally think I'd like to see...</td>\n",
              "      <td>即使是现在，我偶尔还是想见到你。不是今天的你，而是我记忆中曾经的你。</td>\n",
              "      <td>CC-BY 2.0 (France) Attribution: tatoeba.org #1...</td>\n",
              "    </tr>\n",
              "    <tr>\n",
              "      <th>24023</th>\n",
              "      <td>It's very easy to sound natural in your own na...</td>\n",
              "      <td>你很容易把母语说得通顺流畅，却很容易把非母语说得不自然。</td>\n",
              "      <td>CC-BY 2.0 (France) Attribution: tatoeba.org #1...</td>\n",
              "    </tr>\n",
              "    <tr>\n",
              "      <th>24024</th>\n",
              "      <td>I got fired from the company, but since I have...</td>\n",
              "      <td>虽然我被公司解雇了，但是我还有点存款，所以目前不用担心生计问题。</td>\n",
              "      <td>CC-BY 2.0 (France) Attribution: tatoeba.org #1...</td>\n",
              "    </tr>\n",
              "    <tr>\n",
              "      <th>24025</th>\n",
              "      <td>If a person has not had a chance to acquire hi...</td>\n",
              "      <td>如果一個人在成人前沒有機會習得目標語言，他對該語言的認識達到母語者程度的機會是相當小的。</td>\n",
              "      <td>CC-BY 2.0 (France) Attribution: tatoeba.org #1...</td>\n",
              "    </tr>\n",
              "  </tbody>\n",
              "</table>\n",
              "<p>24026 rows × 3 columns</p>\n",
              "</div>\n",
              "    <div class=\"colab-df-buttons\">\n",
              "\n",
              "  <div class=\"colab-df-container\">\n",
              "    <button class=\"colab-df-convert\" onclick=\"convertToInteractive('df-cbedda76-8527-443c-90b7-aedc7a31461b')\"\n",
              "            title=\"Convert this dataframe to an interactive table.\"\n",
              "            style=\"display:none;\">\n",
              "\n",
              "  <svg xmlns=\"http://www.w3.org/2000/svg\" height=\"24px\" viewBox=\"0 -960 960 960\">\n",
              "    <path d=\"M120-120v-720h720v720H120Zm60-500h600v-160H180v160Zm220 220h160v-160H400v160Zm0 220h160v-160H400v160ZM180-400h160v-160H180v160Zm440 0h160v-160H620v160ZM180-180h160v-160H180v160Zm440 0h160v-160H620v160Z\"/>\n",
              "  </svg>\n",
              "    </button>\n",
              "\n",
              "  <style>\n",
              "    .colab-df-container {\n",
              "      display:flex;\n",
              "      gap: 12px;\n",
              "    }\n",
              "\n",
              "    .colab-df-convert {\n",
              "      background-color: #E8F0FE;\n",
              "      border: none;\n",
              "      border-radius: 50%;\n",
              "      cursor: pointer;\n",
              "      display: none;\n",
              "      fill: #1967D2;\n",
              "      height: 32px;\n",
              "      padding: 0 0 0 0;\n",
              "      width: 32px;\n",
              "    }\n",
              "\n",
              "    .colab-df-convert:hover {\n",
              "      background-color: #E2EBFA;\n",
              "      box-shadow: 0px 1px 2px rgba(60, 64, 67, 0.3), 0px 1px 3px 1px rgba(60, 64, 67, 0.15);\n",
              "      fill: #174EA6;\n",
              "    }\n",
              "\n",
              "    .colab-df-buttons div {\n",
              "      margin-bottom: 4px;\n",
              "    }\n",
              "\n",
              "    [theme=dark] .colab-df-convert {\n",
              "      background-color: #3B4455;\n",
              "      fill: #D2E3FC;\n",
              "    }\n",
              "\n",
              "    [theme=dark] .colab-df-convert:hover {\n",
              "      background-color: #434B5C;\n",
              "      box-shadow: 0px 1px 3px 1px rgba(0, 0, 0, 0.15);\n",
              "      filter: drop-shadow(0px 1px 2px rgba(0, 0, 0, 0.3));\n",
              "      fill: #FFFFFF;\n",
              "    }\n",
              "  </style>\n",
              "\n",
              "    <script>\n",
              "      const buttonEl =\n",
              "        document.querySelector('#df-cbedda76-8527-443c-90b7-aedc7a31461b button.colab-df-convert');\n",
              "      buttonEl.style.display =\n",
              "        google.colab.kernel.accessAllowed ? 'block' : 'none';\n",
              "\n",
              "      async function convertToInteractive(key) {\n",
              "        const element = document.querySelector('#df-cbedda76-8527-443c-90b7-aedc7a31461b');\n",
              "        const dataTable =\n",
              "          await google.colab.kernel.invokeFunction('convertToInteractive',\n",
              "                                                    [key], {});\n",
              "        if (!dataTable) return;\n",
              "\n",
              "        const docLinkHtml = 'Like what you see? Visit the ' +\n",
              "          '<a target=\"_blank\" href=https://colab.research.google.com/notebooks/data_table.ipynb>data table notebook</a>'\n",
              "          + ' to learn more about interactive tables.';\n",
              "        element.innerHTML = '';\n",
              "        dataTable['output_type'] = 'display_data';\n",
              "        await google.colab.output.renderOutput(dataTable, element);\n",
              "        const docLink = document.createElement('div');\n",
              "        docLink.innerHTML = docLinkHtml;\n",
              "        element.appendChild(docLink);\n",
              "      }\n",
              "    </script>\n",
              "  </div>\n",
              "\n",
              "\n",
              "<div id=\"df-e0c09749-9044-4bc3-9334-7df6185bb4a7\">\n",
              "  <button class=\"colab-df-quickchart\" onclick=\"quickchart('df-e0c09749-9044-4bc3-9334-7df6185bb4a7')\"\n",
              "            title=\"Suggest charts\"\n",
              "            style=\"display:none;\">\n",
              "\n",
              "<svg xmlns=\"http://www.w3.org/2000/svg\" height=\"24px\"viewBox=\"0 0 24 24\"\n",
              "     width=\"24px\">\n",
              "    <g>\n",
              "        <path d=\"M19 3H5c-1.1 0-2 .9-2 2v14c0 1.1.9 2 2 2h14c1.1 0 2-.9 2-2V5c0-1.1-.9-2-2-2zM9 17H7v-7h2v7zm4 0h-2V7h2v10zm4 0h-2v-4h2v4z\"/>\n",
              "    </g>\n",
              "</svg>\n",
              "  </button>\n",
              "\n",
              "<style>\n",
              "  .colab-df-quickchart {\n",
              "      --bg-color: #E8F0FE;\n",
              "      --fill-color: #1967D2;\n",
              "      --hover-bg-color: #E2EBFA;\n",
              "      --hover-fill-color: #174EA6;\n",
              "      --disabled-fill-color: #AAA;\n",
              "      --disabled-bg-color: #DDD;\n",
              "  }\n",
              "\n",
              "  [theme=dark] .colab-df-quickchart {\n",
              "      --bg-color: #3B4455;\n",
              "      --fill-color: #D2E3FC;\n",
              "      --hover-bg-color: #434B5C;\n",
              "      --hover-fill-color: #FFFFFF;\n",
              "      --disabled-bg-color: #3B4455;\n",
              "      --disabled-fill-color: #666;\n",
              "  }\n",
              "\n",
              "  .colab-df-quickchart {\n",
              "    background-color: var(--bg-color);\n",
              "    border: none;\n",
              "    border-radius: 50%;\n",
              "    cursor: pointer;\n",
              "    display: none;\n",
              "    fill: var(--fill-color);\n",
              "    height: 32px;\n",
              "    padding: 0;\n",
              "    width: 32px;\n",
              "  }\n",
              "\n",
              "  .colab-df-quickchart:hover {\n",
              "    background-color: var(--hover-bg-color);\n",
              "    box-shadow: 0 1px 2px rgba(60, 64, 67, 0.3), 0 1px 3px 1px rgba(60, 64, 67, 0.15);\n",
              "    fill: var(--button-hover-fill-color);\n",
              "  }\n",
              "\n",
              "  .colab-df-quickchart-complete:disabled,\n",
              "  .colab-df-quickchart-complete:disabled:hover {\n",
              "    background-color: var(--disabled-bg-color);\n",
              "    fill: var(--disabled-fill-color);\n",
              "    box-shadow: none;\n",
              "  }\n",
              "\n",
              "  .colab-df-spinner {\n",
              "    border: 2px solid var(--fill-color);\n",
              "    border-color: transparent;\n",
              "    border-bottom-color: var(--fill-color);\n",
              "    animation:\n",
              "      spin 1s steps(1) infinite;\n",
              "  }\n",
              "\n",
              "  @keyframes spin {\n",
              "    0% {\n",
              "      border-color: transparent;\n",
              "      border-bottom-color: var(--fill-color);\n",
              "      border-left-color: var(--fill-color);\n",
              "    }\n",
              "    20% {\n",
              "      border-color: transparent;\n",
              "      border-left-color: var(--fill-color);\n",
              "      border-top-color: var(--fill-color);\n",
              "    }\n",
              "    30% {\n",
              "      border-color: transparent;\n",
              "      border-left-color: var(--fill-color);\n",
              "      border-top-color: var(--fill-color);\n",
              "      border-right-color: var(--fill-color);\n",
              "    }\n",
              "    40% {\n",
              "      border-color: transparent;\n",
              "      border-right-color: var(--fill-color);\n",
              "      border-top-color: var(--fill-color);\n",
              "    }\n",
              "    60% {\n",
              "      border-color: transparent;\n",
              "      border-right-color: var(--fill-color);\n",
              "    }\n",
              "    80% {\n",
              "      border-color: transparent;\n",
              "      border-right-color: var(--fill-color);\n",
              "      border-bottom-color: var(--fill-color);\n",
              "    }\n",
              "    90% {\n",
              "      border-color: transparent;\n",
              "      border-bottom-color: var(--fill-color);\n",
              "    }\n",
              "  }\n",
              "</style>\n",
              "\n",
              "  <script>\n",
              "    async function quickchart(key) {\n",
              "      const quickchartButtonEl =\n",
              "        document.querySelector('#' + key + ' button');\n",
              "      quickchartButtonEl.disabled = true;  // To prevent multiple clicks.\n",
              "      quickchartButtonEl.classList.add('colab-df-spinner');\n",
              "      try {\n",
              "        const charts = await google.colab.kernel.invokeFunction(\n",
              "            'suggestCharts', [key], {});\n",
              "      } catch (error) {\n",
              "        console.error('Error during call to suggestCharts:', error);\n",
              "      }\n",
              "      quickchartButtonEl.classList.remove('colab-df-spinner');\n",
              "      quickchartButtonEl.classList.add('colab-df-quickchart-complete');\n",
              "    }\n",
              "    (() => {\n",
              "      let quickchartButtonEl =\n",
              "        document.querySelector('#df-e0c09749-9044-4bc3-9334-7df6185bb4a7 button');\n",
              "      quickchartButtonEl.style.display =\n",
              "        google.colab.kernel.accessAllowed ? 'block' : 'none';\n",
              "    })();\n",
              "  </script>\n",
              "</div>\n",
              "\n",
              "  <div id=\"id_9fb8be79-0e34-4e04-940b-fd0ef874b2d2\">\n",
              "    <style>\n",
              "      .colab-df-generate {\n",
              "        background-color: #E8F0FE;\n",
              "        border: none;\n",
              "        border-radius: 50%;\n",
              "        cursor: pointer;\n",
              "        display: none;\n",
              "        fill: #1967D2;\n",
              "        height: 32px;\n",
              "        padding: 0 0 0 0;\n",
              "        width: 32px;\n",
              "      }\n",
              "\n",
              "      .colab-df-generate:hover {\n",
              "        background-color: #E2EBFA;\n",
              "        box-shadow: 0px 1px 2px rgba(60, 64, 67, 0.3), 0px 1px 3px 1px rgba(60, 64, 67, 0.15);\n",
              "        fill: #174EA6;\n",
              "      }\n",
              "\n",
              "      [theme=dark] .colab-df-generate {\n",
              "        background-color: #3B4455;\n",
              "        fill: #D2E3FC;\n",
              "      }\n",
              "\n",
              "      [theme=dark] .colab-df-generate:hover {\n",
              "        background-color: #434B5C;\n",
              "        box-shadow: 0px 1px 3px 1px rgba(0, 0, 0, 0.15);\n",
              "        filter: drop-shadow(0px 1px 2px rgba(0, 0, 0, 0.3));\n",
              "        fill: #FFFFFF;\n",
              "      }\n",
              "    </style>\n",
              "    <button class=\"colab-df-generate\" onclick=\"generateWithVariable('lines')\"\n",
              "            title=\"Generate code using this dataframe.\"\n",
              "            style=\"display:none;\">\n",
              "\n",
              "  <svg xmlns=\"http://www.w3.org/2000/svg\" height=\"24px\"viewBox=\"0 0 24 24\"\n",
              "       width=\"24px\">\n",
              "    <path d=\"M7,19H8.4L18.45,9,17,7.55,7,17.6ZM5,21V16.75L18.45,3.32a2,2,0,0,1,2.83,0l1.4,1.43a1.91,1.91,0,0,1,.58,1.4,1.91,1.91,0,0,1-.58,1.4L9.25,21ZM18.45,9,17,7.55Zm-12,3A5.31,5.31,0,0,0,4.9,8.1,5.31,5.31,0,0,0,1,6.5,5.31,5.31,0,0,0,4.9,4.9,5.31,5.31,0,0,0,6.5,1,5.31,5.31,0,0,0,8.1,4.9,5.31,5.31,0,0,0,12,6.5,5.46,5.46,0,0,0,6.5,12Z\"/>\n",
              "  </svg>\n",
              "    </button>\n",
              "    <script>\n",
              "      (() => {\n",
              "      const buttonEl =\n",
              "        document.querySelector('#id_9fb8be79-0e34-4e04-940b-fd0ef874b2d2 button.colab-df-generate');\n",
              "      buttonEl.style.display =\n",
              "        google.colab.kernel.accessAllowed ? 'block' : 'none';\n",
              "\n",
              "      buttonEl.onclick = () => {\n",
              "        google.colab.notebook.generateWithVariable('lines');\n",
              "      }\n",
              "      })();\n",
              "    </script>\n",
              "  </div>\n",
              "\n",
              "    </div>\n",
              "  </div>\n"
            ],
            "application/vnd.google.colaboratory.intrinsic+json": {
              "type": "dataframe",
              "variable_name": "lines",
              "summary": "{\n  \"name\": \"lines\",\n  \"rows\": 24026,\n  \"fields\": [\n    {\n      \"column\": \"eng\",\n      \"properties\": {\n        \"dtype\": \"string\",\n        \"num_unique_values\": 23147,\n        \"samples\": [\n          \"I'm fine now.\",\n          \"Come on. I want to show you something.\",\n          \"Tom doesn't mind helping Mary occasionally.\"\n        ],\n        \"semantic_type\": \"\",\n        \"description\": \"\"\n      }\n    },\n    {\n      \"column\": \"chin\",\n      \"properties\": {\n        \"dtype\": \"string\",\n        \"num_unique_values\": 22054,\n        \"samples\": [\n          \"\\u8ab0\\u544a\\u8a34\\u4e86\\u4f60\\u9019\\u500b\\u6d88\\u606f\\uff1f\",\n          \"\\u6211\\u542c\\u4f20\\u95fb\\u8bf4\\u7684\\u3002\",\n          \"\\u73fe\\u5728\\u662f\\u7da0\\u71c8\\u3002\"\n        ],\n        \"semantic_type\": \"\",\n        \"description\": \"\"\n      }\n    },\n    {\n      \"column\": \"info\",\n      \"properties\": {\n        \"dtype\": \"string\",\n        \"num_unique_values\": 24026,\n        \"samples\": [\n          \"CC-BY 2.0 (France) Attribution: tatoeba.org #302793 (CM) & #1780725 (sadhen)\",\n          \"CC-BY 2.0 (France) Attribution: tatoeba.org #256661 (CK) & #843491 (fucongcong)\",\n          \"CC-BY 2.0 (France) Attribution: tatoeba.org #253665 (CK) & #802077 (Martha)\"\n        ],\n        \"semantic_type\": \"\",\n        \"description\": \"\"\n      }\n    }\n  ]\n}"
            }
          },
          "metadata": {},
          "execution_count": 3
        }
      ],
      "source": [
        "# lines = pd.read_table('/content/drive/My Drive/NMT_Assignment_Fuse/cmn.txt', names=['eng', 'chin', 'info'])\n",
        "lines = pd.read_table('./cmn.txt', names=['eng', 'chin', 'info'])\n",
        "lines"
      ]
    },
    {
      "cell_type": "markdown",
      "metadata": {
        "deletable": false,
        "editable": false,
        "id": "dvqLeT1hkS_1",
        "nbgrader": {
          "cell_type": "markdown",
          "checksum": "4602bba070f00465a7f411ce333ea381",
          "grade": false,
          "grade_id": "cell-109bf8e6353d477b",
          "locked": true,
          "schema_version": 3,
          "solution": false,
          "task": false
        }
      },
      "source": [
        "We are concerned with only english to chinese translation, so we choose these two columns.\n",
        "\n",
        "### Exercise 1\n",
        "\n",
        "#### Task 1\n",
        "\n",
        "<b><div style=\"text-align: right\">[POINTS: 2]</div></b>\n",
        "\n",
        "- Select the English and Chinese translation columns\n",
        "- Select the first 10,000 samples and store it on `lines`\n",
        "\n",
        "**Hint**\n",
        "1. [How to select columns from Pandas DataFrame](https://pandas.pydata.org/docs/getting_started/intro_tutorials/03_subset_data.html)\n",
        "2. [Indexing and Selecting Data](https://pandas.pydata.org/docs/user_guide/indexing.html)\n"
      ]
    },
    {
      "cell_type": "code",
      "execution_count": 4,
      "metadata": {
        "deletable": false,
        "id": "txXegvQykUFr",
        "nbgrader": {
          "cell_type": "code",
          "checksum": "11a7c082ad344bbf53fbc79a134ca6a5",
          "grade": false,
          "grade_id": "cell-8d554e7a8fae2b5f",
          "locked": false,
          "schema_version": 3,
          "solution": true
        },
        "tags": [
          "Ex-1-Task-1"
        ]
      },
      "outputs": [],
      "source": [
        "### Ex-1-Task-1\n",
        "# lines = None\n",
        "\n",
        "# Select `eng` and `chin` columns from the table\n",
        "# take only first 10,000 samples to train\n",
        "\n",
        "### BEGIN SOLUTION\n",
        "# your code here\n",
        "# lines: Optional[pd.DataFrame] = None\n",
        "lines = lines[['eng', 'chin']].iloc[:10000]\n",
        "### END SOLUTION"
      ]
    },
    {
      "cell_type": "code",
      "execution_count": 5,
      "metadata": {
        "deletable": false,
        "editable": false,
        "id": "zgYFaXI_0-Gr",
        "nbgrader": {
          "cell_type": "code",
          "checksum": "a3d1a3f4c8d47e319282102289d91b29",
          "grade": true,
          "grade_id": "cell-cc75ee800e422bec",
          "locked": true,
          "points": 2,
          "schema_version": 3,
          "solution": false
        },
        "tags": [
          "Ex-1-Task-1"
        ]
      },
      "outputs": [],
      "source": [
        "assert lines is not None"
      ]
    },
    {
      "cell_type": "code",
      "execution_count": 6,
      "metadata": {
        "deletable": false,
        "editable": false,
        "id": "Kh7IpJH-w6MT",
        "nbgrader": {
          "cell_type": "code",
          "checksum": "5bd3454c7013d5e967f924cdf40bec69",
          "grade": false,
          "grade_id": "cell-c1a557d4e1f790be",
          "locked": true,
          "schema_version": 3,
          "solution": false,
          "task": false
        },
        "colab": {
          "base_uri": "https://localhost:8080/"
        },
        "outputId": "1e46ffc0-693b-4652-eb1d-2d57ecb12f98"
      },
      "outputs": [
        {
          "output_type": "execute_result",
          "data": {
            "text/plain": [
              "(10000, 2)"
            ]
          },
          "metadata": {},
          "execution_count": 6
        }
      ],
      "source": [
        "# displaying shape of the training set\n",
        "lines.shape"
      ]
    },
    {
      "cell_type": "markdown",
      "metadata": {
        "deletable": false,
        "editable": false,
        "id": "qJqfTx_S7MBm",
        "nbgrader": {
          "cell_type": "markdown",
          "checksum": "6a3fefeb3dbff03a8151d1ceafe32a43",
          "grade": false,
          "grade_id": "cell-6f124aca6532ebf9",
          "locked": true,
          "schema_version": 3,
          "solution": false,
          "task": false
        }
      },
      "source": [
        "### Data-Preprocessing\n"
      ]
    },
    {
      "cell_type": "markdown",
      "metadata": {
        "deletable": false,
        "editable": false,
        "id": "1p_OI3gCm1nY",
        "nbgrader": {
          "cell_type": "markdown",
          "checksum": "69ae6492cb816a54dd76e1158feb7ff8",
          "grade": false,
          "grade_id": "cell-12b91bc6ebf516bb",
          "locked": true,
          "schema_version": 3,
          "solution": false,
          "task": false
        }
      },
      "source": [
        "We will follow the following preprocessing steps in order to clean the dataset and fit into model training.   \n",
        "\n",
        "Different Text Preprocessing steps are:\n",
        "- `Lowercasing`\n",
        "- `Removing Quotes`  \n",
        "- `Removing Uneven spaces`\n",
        "- `Tokenization`\n"
      ]
    },
    {
      "cell_type": "markdown",
      "metadata": {
        "deletable": false,
        "editable": false,
        "id": "9OavBlnl0-Gs",
        "nbgrader": {
          "cell_type": "markdown",
          "checksum": "d0e3ec6a0dcb40c939ed480e66929e06",
          "grade": false,
          "grade_id": "cell-55d8579a96347262",
          "locked": true,
          "schema_version": 3,
          "solution": false,
          "task": false
        }
      },
      "source": [
        "#### Lowercasing\n",
        "Here we will use **lower()** method of string to lower case the text, This is because word Text, and text are same.\n",
        "\n",
        "**apply()** is a pandas DataFrame that applies a function along an axis of the DataFrame. For more info [click_here](https://pandas.pydata.org/docs/reference/api/pandas.DataFrame.apply.html)"
      ]
    },
    {
      "cell_type": "code",
      "execution_count": 7,
      "metadata": {
        "deletable": false,
        "editable": false,
        "id": "ayVesOcK0-Gs",
        "nbgrader": {
          "cell_type": "code",
          "checksum": "a573be3cc12561afab4c01b19ce01795",
          "grade": false,
          "grade_id": "cell-818a7628e07222c7",
          "locked": true,
          "schema_version": 3,
          "solution": false,
          "task": false
        }
      },
      "outputs": [],
      "source": [
        "# lowercase inputs on the columns\n",
        "lines.eng = lines.eng.apply(lambda x: x.lower())\n",
        "lines.chin = lines.chin.apply(lambda x: x.lower())"
      ]
    },
    {
      "cell_type": "markdown",
      "metadata": {
        "deletable": false,
        "editable": false,
        "id": "ePdmVLLlw6MU",
        "nbgrader": {
          "cell_type": "markdown",
          "checksum": "82f8bf7c2439c84eb248d1b09d073edf",
          "grade": false,
          "grade_id": "cell-ae96a6b81a1185d7",
          "locked": true,
          "schema_version": 3,
          "solution": false,
          "task": false
        }
      },
      "source": [
        "### Exercise 2\n",
        "\n",
        "Above, we just performed lowercasing of the input samples. Lowercasing is the first operation we performed. Now, we will perform other operations like: `Removing Quotes`, `Removing Special Characters`, `Removing Uneven Spaces`, `Adding <START> and <END> tokens`, etc. Perform similar implementations like that mentioned above.\n"
      ]
    },
    {
      "cell_type": "markdown",
      "metadata": {
        "deletable": false,
        "editable": false,
        "id": "d-vf6AbR0-Gs",
        "nbgrader": {
          "cell_type": "markdown",
          "checksum": "068af81cad8ab07cbbceb9a3cbccd94d",
          "grade": false,
          "grade_id": "cell-88c2f1ffb428de99",
          "locked": true,
          "schema_version": 3,
          "solution": false,
          "task": false
        }
      },
      "source": [
        "#### Removing Quotes\n",
        "\n",
        "**`Q. Write code to remove all single quotes (') from the columns lines.eng and lines.chin.`**\n",
        "\n",
        "\n",
        "\n",
        "**Hint:**  \n",
        "You can use the `apply()` method in combination with a `lambda function and `re.sub()` from the re module to remove quotes from each entry in a DataFrame column.\n",
        "<b><div style=\"text-align: right\">[POINTS: 3]</div></b>\n",
        "\n",
        "#### Task 1\n",
        "\n",
        "<b><div style=\"text-align: right\">[POINTS: 1]</div></b>\n"
      ]
    },
    {
      "cell_type": "code",
      "execution_count": 8,
      "metadata": {
        "deletable": false,
        "id": "cnxN3CNhw6MU",
        "nbgrader": {
          "cell_type": "code",
          "checksum": "24f6e9de968fb417c8bddc9654cbe58b",
          "grade": false,
          "grade_id": "cell-166a4b682ff40791",
          "locked": false,
          "schema_version": 3,
          "solution": true
        },
        "tags": [
          "Ex-2-Task-1"
        ]
      },
      "outputs": [],
      "source": [
        "### Ex-2-Task-1\n",
        "\n",
        "# remove all the quotes \"'\" from the columns\n",
        "\n",
        "# lines.eng = None\n",
        "# lines.chin = None\n",
        "\n",
        "# Exercise 2 | Task 1\n",
        "### BEGIN SOLUTION\n",
        "# your code here\n",
        "lines.eng = lines.eng.apply(lambda x: re.sub(r\"'\", \"\", x))\n",
        "lines.chin = lines.chin.apply(lambda x: re.sub(r\"'\", \"\", x))\n",
        "### END SOLUTION"
      ]
    },
    {
      "cell_type": "code",
      "execution_count": 9,
      "metadata": {
        "deletable": false,
        "editable": false,
        "id": "EFKIDmSg0-Gt",
        "nbgrader": {
          "cell_type": "code",
          "checksum": "8533a681c6890484e1bd4547c9a4380a",
          "grade": true,
          "grade_id": "cell-71fafecfa7e89a02",
          "locked": true,
          "points": 1,
          "schema_version": 3,
          "solution": false
        },
        "tags": [
          "Ex-2-Task-1"
        ]
      },
      "outputs": [],
      "source": [
        "assert lines.eng is not None\n",
        "assert lines.chin is not None\n"
      ]
    },
    {
      "cell_type": "markdown",
      "metadata": {
        "deletable": false,
        "editable": false,
        "id": "dQPsCJ-t0-Gt",
        "nbgrader": {
          "cell_type": "markdown",
          "checksum": "fe5f76d98ab6f1851b1222a619d68c5c",
          "grade": false,
          "grade_id": "cell-17278651b7e58ab4",
          "locked": true,
          "schema_version": 3,
          "solution": false,
          "task": false
        }
      },
      "source": [
        "#### Removing Special Characters\n"
      ]
    },
    {
      "cell_type": "code",
      "execution_count": 10,
      "metadata": {
        "deletable": false,
        "editable": false,
        "id": "3c7SFZZJw6MU",
        "nbgrader": {
          "cell_type": "code",
          "checksum": "1500be7e854dc4d11e9ab8ce40c44f4a",
          "grade": false,
          "grade_id": "cell-57bd2575631fb4c8",
          "locked": true,
          "schema_version": 3,
          "solution": false,
          "task": false
        }
      },
      "outputs": [],
      "source": [
        "# Set of all special characters\n",
        "sets_of_punctuations = set(string.punctuation)\n",
        "\n",
        "# Removing sets of all special characters from the inputs\n",
        "lines.eng = lines.eng.apply(lambda x: ''.join(char for char in x if char not in sets_of_punctuations))\n",
        "lines.chin = lines.chin.apply(lambda x: ''.join(char for char in x if char not in sets_of_punctuations))"
      ]
    },
    {
      "cell_type": "markdown",
      "metadata": {
        "deletable": false,
        "editable": false,
        "id": "zdfLmsrY0-Gt",
        "nbgrader": {
          "cell_type": "markdown",
          "checksum": "7e6b1f4a051d2cb789b504fb6beb0685",
          "grade": false,
          "grade_id": "cell-5ae1b11f41d71b27",
          "locked": true,
          "schema_version": 3,
          "solution": false,
          "task": false
        }
      },
      "source": [
        "#### Removing Uneven Spaces\n",
        "\n",
        "**`Q. Write code to remove any extra spaces in the columns lines.eng and lines.chin, ensuring there is only a single space between words.`**\n",
        "\n",
        "**Hint:**  \n",
        "You can use the `apply()` method in combination with a `lambda function` and `re.sub()` from the re module to remove quotes from each entry in a DataFrame column.\n",
        "\n",
        "#### Task 2\n",
        "\n",
        "<b><div style=\"text-align: right\">[POINTS: 1]</div></b>\n"
      ]
    },
    {
      "cell_type": "code",
      "execution_count": 11,
      "metadata": {
        "deletable": false,
        "id": "0NJg9Wtxw6MV",
        "nbgrader": {
          "cell_type": "code",
          "checksum": "6262580c52c9c0d41e3f48056d849424",
          "grade": false,
          "grade_id": "cell-b5bd2c20a73d1679",
          "locked": false,
          "schema_version": 3,
          "solution": true
        },
        "tags": [
          "Ex-2-Task-2"
        ]
      },
      "outputs": [],
      "source": [
        "### Ex-2-Task-2\n",
        "# lines.eng = None\n",
        "# lines.chin = None\n",
        "\n",
        "# There may be uneven spaces in the inputs\n",
        "# We have to remove the extra spaces too\n",
        "\n",
        "# Exercise 2 | Task 2\n",
        "### BEGIN SOLUTION\n",
        "# your code here\n",
        "lines.eng = lines.eng.apply(lambda x: re.sub(r'\\s+', ' ', x).strip())\n",
        "lines.chin = lines.chin.apply(lambda x: re.sub(r'\\s+', ' ', x).strip())\n",
        "### END SOLUTION"
      ]
    },
    {
      "cell_type": "code",
      "execution_count": 12,
      "metadata": {
        "deletable": false,
        "editable": false,
        "id": "M4dMDkYn0-Gu",
        "nbgrader": {
          "cell_type": "code",
          "checksum": "9274c3da54ce529a0a48fd322b407e24",
          "grade": true,
          "grade_id": "cell-557c50952c53e7ed",
          "locked": true,
          "points": 1,
          "schema_version": 3,
          "solution": false
        },
        "tags": [
          "Ex-2-Task-2"
        ]
      },
      "outputs": [],
      "source": [
        "assert lines.eng is not None\n",
        "assert lines.chin is not None\n"
      ]
    },
    {
      "cell_type": "markdown",
      "metadata": {
        "deletable": false,
        "editable": false,
        "id": "nf_nMZp00-Gu",
        "nbgrader": {
          "cell_type": "markdown",
          "checksum": "50e043f4e44d400cb3a775b965b6b665",
          "grade": false,
          "grade_id": "cell-03607f2602068f04",
          "locked": true,
          "schema_version": 3,
          "solution": false,
          "task": false
        }
      },
      "source": [
        "#### Adding `<START>` and `<END>` Tokens\n",
        "\n",
        "E.g.\n",
        "'Hi' = '`<START>` Hi `<END>`'\n",
        "\n",
        "#### Task 3\n",
        "\n",
        "<b><div style=\"text-align: right\">[POINTS: 1]</div></b>\n",
        "We will perform this operations over Chinese column samples only because we are converting English sequences to chinese only for now.\n",
        "\n",
        "**Hint:**  \n",
        "Use the `apply function` with a `lambda` to prepend `<START>` and append `<END>` to each sentence in the `lines.chin` DataFrame."
      ]
    },
    {
      "cell_type": "code",
      "execution_count": 13,
      "metadata": {
        "deletable": false,
        "id": "24kKSFCjw6MW",
        "nbgrader": {
          "cell_type": "code",
          "checksum": "d8df2bf22b3b379332eeeebc57bd287e",
          "grade": false,
          "grade_id": "cell-ad1abc3f8ffea62a",
          "locked": false,
          "schema_version": 3,
          "solution": true
        },
        "tags": [
          "Ex-2-Task-3"
        ]
      },
      "outputs": [],
      "source": [
        "### Ex-2-Task-3\n",
        "# lines.chin = None\n",
        "\n",
        "# Adding <START> and <END> tokens with trailing spaces\n",
        "\n",
        "# Exercise 2 | Task 3\n",
        "### BEGIN SOLUTION\n",
        "# your code here\n",
        "lines.chin = lines.chin.apply(lambda x: f'<START> {x} <END>')\n",
        "### END SOLUTION"
      ]
    },
    {
      "cell_type": "code",
      "execution_count": 14,
      "metadata": {
        "deletable": false,
        "editable": false,
        "id": "PJA33kQZ0-Gu",
        "nbgrader": {
          "cell_type": "code",
          "checksum": "9a0a377fd98f6659655db1b424338212",
          "grade": true,
          "grade_id": "cell-fd254802897335ea",
          "locked": true,
          "points": 1,
          "schema_version": 3,
          "solution": false
        },
        "tags": [
          "Ex-2-Task-3"
        ]
      },
      "outputs": [],
      "source": [
        "assert lines.chin is not None\n"
      ]
    },
    {
      "cell_type": "markdown",
      "metadata": {
        "deletable": false,
        "editable": false,
        "id": "ojnbyezHqUaG",
        "nbgrader": {
          "cell_type": "markdown",
          "checksum": "86a9ff8785d8ef6fb2437aae08cf171b",
          "grade": false,
          "grade_id": "cell-d4bdec9ded84970b",
          "locked": true,
          "schema_version": 3,
          "solution": false,
          "task": false
        }
      },
      "source": [
        "Now, our next task is to create a list of vocabularies of English and Chinese Inputs.\n",
        "\n",
        "Following code will tokenize the words present in the English and Chinese dataset that we use to train the model\n"
      ]
    },
    {
      "cell_type": "markdown",
      "metadata": {
        "deletable": false,
        "editable": false,
        "id": "vBibz4Gn666N",
        "nbgrader": {
          "cell_type": "markdown",
          "checksum": "8153db3e15c212af999f9d8622e21efc",
          "grade": false,
          "grade_id": "cell-fd22ab95a6103221",
          "locked": true,
          "schema_version": 3,
          "solution": false,
          "task": false
        }
      },
      "source": [
        "### Tokenizing\n"
      ]
    },
    {
      "cell_type": "markdown",
      "metadata": {
        "deletable": false,
        "editable": false,
        "id": "5GtJWhtG7UiM",
        "nbgrader": {
          "cell_type": "markdown",
          "checksum": "31a8e3c3129bf64cf3af93c2d1e27ca2",
          "grade": false,
          "grade_id": "cell-3c2d3a9eb7586ce1",
          "locked": true,
          "schema_version": 3,
          "solution": false,
          "task": false
        }
      },
      "source": [
        "Tokenizing the English and the Chinese words in to set `all_english_vocabs` and `all_chinese_vocabs`.\n"
      ]
    },
    {
      "cell_type": "code",
      "execution_count": 15,
      "metadata": {
        "deletable": false,
        "editable": false,
        "id": "dY-j6xPpqdPT",
        "nbgrader": {
          "cell_type": "code",
          "checksum": "eb09fd0d0113e567e720dff6a2d57257",
          "grade": false,
          "grade_id": "cell-cdb536778da0a35b",
          "locked": true,
          "schema_version": 3,
          "solution": false,
          "task": false
        }
      },
      "outputs": [],
      "source": [
        "# Collect English Vocabs\n",
        "all_english_vocabs = set()\n",
        "for english in lines.eng:\n",
        "    words = english.split()\n",
        "    for word in words:\n",
        "        if word not in all_english_vocabs:\n",
        "            all_english_vocabs.add(word)"
      ]
    },
    {
      "cell_type": "code",
      "execution_count": 16,
      "metadata": {
        "deletable": false,
        "editable": false,
        "id": "UJGtunRdtPdX",
        "nbgrader": {
          "cell_type": "code",
          "checksum": "2c81f85aa3a4cd2c1d99800f0a4bfe4b",
          "grade": false,
          "grade_id": "cell-9573d55a6cc7a79a",
          "locked": true,
          "schema_version": 3,
          "solution": false,
          "task": false
        }
      },
      "outputs": [],
      "source": [
        "# Collect Chinese Vocabs\n",
        "all_chinese_vocabs = set()\n",
        "for chinese in lines.chin:\n",
        "    words = chinese.split()\n",
        "    for word in words:\n",
        "        if word not in all_chinese_vocabs:\n",
        "            all_chinese_vocabs.add(word)"
      ]
    },
    {
      "cell_type": "markdown",
      "metadata": {
        "deletable": false,
        "editable": false,
        "id": "AqQxd93At8Y_",
        "nbgrader": {
          "cell_type": "markdown",
          "checksum": "aaa117a1a9ef6101a6dcbb4e172ff64c",
          "grade": false,
          "grade_id": "cell-2b285bbaaf0bb29c",
          "locked": true,
          "schema_version": 3,
          "solution": false,
          "task": false
        }
      },
      "source": [
        "Let's implement the following codes to find the maximum sequence length of input.\n"
      ]
    },
    {
      "cell_type": "code",
      "execution_count": 17,
      "metadata": {
        "deletable": false,
        "editable": false,
        "id": "ApMcilUdw6MX",
        "nbgrader": {
          "cell_type": "code",
          "checksum": "8406af3f5b0446b0750be37157760ddf",
          "grade": false,
          "grade_id": "cell-54947cadd4bdeb58",
          "locked": true,
          "schema_version": 3,
          "solution": false,
          "task": false
        },
        "colab": {
          "base_uri": "https://localhost:8080/"
        },
        "outputId": "c402116d-7992-4a88-ef05-89d6d161909a"
      },
      "outputs": [
        {
          "output_type": "stream",
          "name": "stdout",
          "text": [
            "8\n"
          ]
        }
      ],
      "source": [
        "# Max Length of input sequence\n",
        "sequence_length = []\n",
        "for line in lines.eng:\n",
        "    sequence_length.append(len(line.split(' ')))\n",
        "max_length_inp = np.max(sequence_length)\n",
        "print(max_length_inp)"
      ]
    },
    {
      "cell_type": "code",
      "execution_count": 18,
      "metadata": {
        "deletable": false,
        "editable": false,
        "id": "5r8H-xriw6MX",
        "nbgrader": {
          "cell_type": "code",
          "checksum": "bb4f46c3196a78a0d7abba9159251659",
          "grade": false,
          "grade_id": "cell-389126c8d63c4124",
          "locked": true,
          "schema_version": 3,
          "solution": false,
          "task": false
        },
        "colab": {
          "base_uri": "https://localhost:8080/"
        },
        "outputId": "d6b002fa-f7ad-4a6f-f9b1-0624945093d7"
      },
      "outputs": [
        {
          "output_type": "execute_result",
          "data": {
            "text/plain": [
              "5"
            ]
          },
          "metadata": {},
          "execution_count": 18
        }
      ],
      "source": [
        "# Max Length of target sequence\n",
        "sequence_length = []\n",
        "for line in lines.chin:\n",
        "    sequence_length.append(len(line.split(' ')))\n",
        "max_length_targ = np.max(sequence_length)\n",
        "max_length_targ"
      ]
    },
    {
      "cell_type": "markdown",
      "metadata": {
        "deletable": false,
        "editable": false,
        "id": "z2ID7e3a0-Gw",
        "nbgrader": {
          "cell_type": "markdown",
          "checksum": "94d6bac02b2788a4fe011e9d500c21a4",
          "grade": false,
          "grade_id": "cell-8f6c8ab252764056",
          "locked": true,
          "schema_version": 3,
          "solution": false,
          "task": false
        }
      },
      "source": [
        "With this, we can see that the maximum input sequence is 8 and the maximum target sequence is 5.\n"
      ]
    },
    {
      "cell_type": "markdown",
      "metadata": {
        "deletable": false,
        "editable": false,
        "id": "scApqmY00-Gw",
        "nbgrader": {
          "cell_type": "markdown",
          "checksum": "40d5094d209e6b7975b5e3eca73db2a9",
          "grade": false,
          "grade_id": "cell-05bfb2e9b479f1e7",
          "locked": true,
          "schema_version": 3,
          "solution": false,
          "task": false
        }
      },
      "source": [
        "### Exercise 3\n",
        "\n",
        "<b><div style=\"text-align: right\">[POINTS: 2]</div></b>\n",
        "\n",
        "#### Task 1\n",
        "\n",
        "<b><div style=\"text-align: right\">[POINTS: 1]</div></b>\n",
        "Sort and store the tokenized English and Chinese words on the variables `input_words` and `target_words`\n",
        "\n",
        "**Hint:**   \n",
        "convert the provided English and Chinese vocabularies to `lists` and sort them using the `sorted()` function, then store the results in the `input_words` and `target_words` variables.\n"
      ]
    },
    {
      "cell_type": "code",
      "execution_count": 19,
      "metadata": {
        "deletable": false,
        "id": "mTOotq_Iw6MY",
        "nbgrader": {
          "cell_type": "code",
          "checksum": "9078779aa366ba1983eafb52d994367c",
          "grade": false,
          "grade_id": "cell-a233cc05cff264ec",
          "locked": false,
          "schema_version": 3,
          "solution": true
        },
        "tags": [
          "Ex-3-Task-1"
        ]
      },
      "outputs": [],
      "source": [
        "### Ex-3-Task-1\n",
        "\n",
        "# input_words = None\n",
        "# target_words = None\n",
        "\n",
        "# Sorting and Storing the tokens of English and Chinese words\n",
        "\n",
        "# Exercise 3\n",
        "### BEGIN SOLUTION\n",
        "# your code here\n",
        "input_words = sorted(all_english_vocabs)\n",
        "target_words = sorted(all_chinese_vocabs)\n",
        "### END SOLUTION"
      ]
    },
    {
      "cell_type": "code",
      "execution_count": 20,
      "metadata": {
        "deletable": false,
        "editable": false,
        "id": "e9MTr3c-0-Gx",
        "nbgrader": {
          "cell_type": "code",
          "checksum": "7dc42d6bc240ed9b4598a698272bdbae",
          "grade": true,
          "grade_id": "cell-15b8c56f73279370",
          "locked": true,
          "points": 1,
          "schema_version": 3,
          "solution": false
        },
        "tags": [
          "Ex-3-Task-1"
        ]
      },
      "outputs": [],
      "source": [
        "assert input_words is not None\n",
        "assert target_words is not None\n"
      ]
    },
    {
      "cell_type": "markdown",
      "metadata": {
        "id": "XlODcVXyAo98"
      },
      "source": [
        "#### Task 2\n",
        "\n",
        "<b><div style=\"text-align: right\">[POINTS: 1]</div></b>\n",
        "Since, we are performing Machine translation, we have an encoder and decoder kind of architecture. We will have the encoder architecture as following:\n",
        "\n",
        "<div align=\"center\">\n",
        "<figure>\n",
        "<img src=\"https://doc.google.com/a/fusemachines.com/uc?id=1voHxN0hllGSLfyPJSy6tI_hzTNO6hHRl\" >\n",
        "<figcaption>Figure 1. Machine Translation\n",
        "</figcaption>\n",
        "</figure>\n",
        "</div>\n",
        "\n",
        "Here, the green denoted LSTM cells represent the encoder part and the red LSTM cells represent the decoder part of a Machine Translation network.\n",
        "\n",
        "\n",
        "**Hint:**  \n",
        "Count the total number of unique words in the `English` and `Chinese vocabularies by using the `len()` function on `all_english_vocabs` and `all_chinese_vocabs`, and store these counts in `num_encoder_tokens` and `num_decoder_tokens`, respectively."
      ]
    },
    {
      "cell_type": "code",
      "execution_count": 21,
      "metadata": {
        "deletable": false,
        "id": "ZkXtWETvAnZ5",
        "nbgrader": {
          "cell_type": "code",
          "checksum": "c9db575d6fd33f6657706244f3d78c37",
          "grade": false,
          "grade_id": "cell-d21094fc3564a7c2",
          "locked": false,
          "schema_version": 3,
          "solution": true,
          "task": false
        },
        "tags": [
          "Ex-3-Task-2"
        ],
        "colab": {
          "base_uri": "https://localhost:8080/"
        },
        "outputId": "a14f02e7-d878-4c75-f417-149f95e19de9"
      },
      "outputs": [
        {
          "output_type": "stream",
          "name": "stdout",
          "text": [
            "3380 9023\n"
          ]
        }
      ],
      "source": [
        "### Ex-3-Task-2\n",
        "# counting the total tokens of English and Chinese words\n",
        "num_encoder_tokens = None\n",
        "num_decoder_tokens = None\n",
        "### BEGIN SOLUTION\n",
        "# your code here\n",
        "num_encoder_tokens = len(all_english_vocabs)\n",
        "num_decoder_tokens = len(all_chinese_vocabs)\n",
        "### END SOLUTION\n",
        "print(num_encoder_tokens, num_decoder_tokens)"
      ]
    },
    {
      "cell_type": "code",
      "execution_count": 21,
      "metadata": {
        "deletable": false,
        "editable": false,
        "id": "idi_diAO0-Gx",
        "nbgrader": {
          "cell_type": "code",
          "checksum": "ede6a6c888773ecf37e16e8e132e6643",
          "grade": true,
          "grade_id": "cell-cd48ce4fc6942143",
          "locked": true,
          "points": 1,
          "schema_version": 3,
          "solution": false
        },
        "tags": [
          "Ex-3-Task-2"
        ]
      },
      "outputs": [],
      "source": []
    },
    {
      "cell_type": "code",
      "execution_count": 22,
      "metadata": {
        "deletable": false,
        "editable": false,
        "id": "HZSC0tsow6MY",
        "nbgrader": {
          "cell_type": "code",
          "checksum": "be0bb5f1bd433ae49ce0865a36b5d4a3",
          "grade": false,
          "grade_id": "cell-040c48796e20c48e",
          "locked": true,
          "schema_version": 3,
          "solution": false,
          "task": false
        },
        "colab": {
          "base_uri": "https://localhost:8080/"
        },
        "outputId": "27e0f0ba-200f-4c9d-ce2d-917fbfec689e"
      },
      "outputs": [
        {
          "output_type": "execute_result",
          "data": {
            "text/plain": [
              "(3381, 9024)"
            ]
          },
          "metadata": {},
          "execution_count": 22
        }
      ],
      "source": [
        "# For zero padding we add one extra token\n",
        "num_decoder_tokens += 1\n",
        "num_encoder_tokens += 1\n",
        "num_encoder_tokens, num_decoder_tokens"
      ]
    },
    {
      "cell_type": "code",
      "execution_count": 23,
      "metadata": {
        "deletable": false,
        "editable": false,
        "id": "MYPMZqntw6MZ",
        "nbgrader": {
          "cell_type": "code",
          "checksum": "7f9b24c88907af9d6fc4abfd0f2d3b26",
          "grade": false,
          "grade_id": "cell-df7be80213612242",
          "locked": true,
          "schema_version": 3,
          "solution": false,
          "task": false
        }
      },
      "outputs": [],
      "source": [
        "# compute and store the tokens with index in dictionary as word, index format\n",
        "input_token_index = dict([(word, i + 1) for i, word in enumerate(input_words)])\n",
        "target_token_index = dict([(word, i + 1) for i, word in enumerate(target_words)])"
      ]
    },
    {
      "cell_type": "code",
      "execution_count": 24,
      "metadata": {
        "deletable": false,
        "editable": false,
        "id": "ofUESFVWw6MZ",
        "nbgrader": {
          "cell_type": "code",
          "checksum": "fe1c30203bafa9868d0d233747ebf40a",
          "grade": false,
          "grade_id": "cell-85cd917cd9596b95",
          "locked": true,
          "schema_version": 3,
          "solution": false,
          "task": false
        }
      },
      "outputs": [],
      "source": [
        "# compute and store the tokens with index in dictionary as index, word format\n",
        "reverse_input_char_index = dict((i, word) for word, i in input_token_index.items())\n",
        "reverse_target_char_index = dict((i, word) for word, i in target_token_index.items())"
      ]
    },
    {
      "cell_type": "code",
      "execution_count": 25,
      "metadata": {
        "deletable": false,
        "editable": false,
        "id": "A-jl8mSpw6MZ",
        "nbgrader": {
          "cell_type": "code",
          "checksum": "7f4b730ef6492fbd05ede8bffededdea",
          "grade": false,
          "grade_id": "cell-75e847bed23fd5e8",
          "locked": true,
          "schema_version": 3,
          "solution": false,
          "task": false
        },
        "colab": {
          "base_uri": "https://localhost:8080/",
          "height": 206
        },
        "outputId": "2e954a51-97f7-490b-d4d2-9598f55b2a81"
      },
      "outputs": [
        {
          "output_type": "execute_result",
          "data": {
            "text/plain": [
              "                            eng                     chin\n",
              "966              get out of bed         <START> 起床 <END>\n",
              "5309     hope is not a strategy  <START> 希望不是一种策略。 <END>\n",
              "9198  tom shouldve known better   <START> 汤姆应该更清楚。 <END>\n",
              "1219              whats her job    <START> 她做什么工作？ <END>\n",
              "5051      tom was buried monday  <START> 汤姆在周一被埋了。 <END>"
            ],
            "text/html": [
              "\n",
              "  <div id=\"df-51d47d84-39c6-419a-9db1-77dac315f97a\" class=\"colab-df-container\">\n",
              "    <div>\n",
              "<style scoped>\n",
              "    .dataframe tbody tr th:only-of-type {\n",
              "        vertical-align: middle;\n",
              "    }\n",
              "\n",
              "    .dataframe tbody tr th {\n",
              "        vertical-align: top;\n",
              "    }\n",
              "\n",
              "    .dataframe thead th {\n",
              "        text-align: right;\n",
              "    }\n",
              "</style>\n",
              "<table border=\"1\" class=\"dataframe\">\n",
              "  <thead>\n",
              "    <tr style=\"text-align: right;\">\n",
              "      <th></th>\n",
              "      <th>eng</th>\n",
              "      <th>chin</th>\n",
              "    </tr>\n",
              "  </thead>\n",
              "  <tbody>\n",
              "    <tr>\n",
              "      <th>966</th>\n",
              "      <td>get out of bed</td>\n",
              "      <td>&lt;START&gt; 起床 &lt;END&gt;</td>\n",
              "    </tr>\n",
              "    <tr>\n",
              "      <th>5309</th>\n",
              "      <td>hope is not a strategy</td>\n",
              "      <td>&lt;START&gt; 希望不是一种策略。 &lt;END&gt;</td>\n",
              "    </tr>\n",
              "    <tr>\n",
              "      <th>9198</th>\n",
              "      <td>tom shouldve known better</td>\n",
              "      <td>&lt;START&gt; 汤姆应该更清楚。 &lt;END&gt;</td>\n",
              "    </tr>\n",
              "    <tr>\n",
              "      <th>1219</th>\n",
              "      <td>whats her job</td>\n",
              "      <td>&lt;START&gt; 她做什么工作？ &lt;END&gt;</td>\n",
              "    </tr>\n",
              "    <tr>\n",
              "      <th>5051</th>\n",
              "      <td>tom was buried monday</td>\n",
              "      <td>&lt;START&gt; 汤姆在周一被埋了。 &lt;END&gt;</td>\n",
              "    </tr>\n",
              "  </tbody>\n",
              "</table>\n",
              "</div>\n",
              "    <div class=\"colab-df-buttons\">\n",
              "\n",
              "  <div class=\"colab-df-container\">\n",
              "    <button class=\"colab-df-convert\" onclick=\"convertToInteractive('df-51d47d84-39c6-419a-9db1-77dac315f97a')\"\n",
              "            title=\"Convert this dataframe to an interactive table.\"\n",
              "            style=\"display:none;\">\n",
              "\n",
              "  <svg xmlns=\"http://www.w3.org/2000/svg\" height=\"24px\" viewBox=\"0 -960 960 960\">\n",
              "    <path d=\"M120-120v-720h720v720H120Zm60-500h600v-160H180v160Zm220 220h160v-160H400v160Zm0 220h160v-160H400v160ZM180-400h160v-160H180v160Zm440 0h160v-160H620v160ZM180-180h160v-160H180v160Zm440 0h160v-160H620v160Z\"/>\n",
              "  </svg>\n",
              "    </button>\n",
              "\n",
              "  <style>\n",
              "    .colab-df-container {\n",
              "      display:flex;\n",
              "      gap: 12px;\n",
              "    }\n",
              "\n",
              "    .colab-df-convert {\n",
              "      background-color: #E8F0FE;\n",
              "      border: none;\n",
              "      border-radius: 50%;\n",
              "      cursor: pointer;\n",
              "      display: none;\n",
              "      fill: #1967D2;\n",
              "      height: 32px;\n",
              "      padding: 0 0 0 0;\n",
              "      width: 32px;\n",
              "    }\n",
              "\n",
              "    .colab-df-convert:hover {\n",
              "      background-color: #E2EBFA;\n",
              "      box-shadow: 0px 1px 2px rgba(60, 64, 67, 0.3), 0px 1px 3px 1px rgba(60, 64, 67, 0.15);\n",
              "      fill: #174EA6;\n",
              "    }\n",
              "\n",
              "    .colab-df-buttons div {\n",
              "      margin-bottom: 4px;\n",
              "    }\n",
              "\n",
              "    [theme=dark] .colab-df-convert {\n",
              "      background-color: #3B4455;\n",
              "      fill: #D2E3FC;\n",
              "    }\n",
              "\n",
              "    [theme=dark] .colab-df-convert:hover {\n",
              "      background-color: #434B5C;\n",
              "      box-shadow: 0px 1px 3px 1px rgba(0, 0, 0, 0.15);\n",
              "      filter: drop-shadow(0px 1px 2px rgba(0, 0, 0, 0.3));\n",
              "      fill: #FFFFFF;\n",
              "    }\n",
              "  </style>\n",
              "\n",
              "    <script>\n",
              "      const buttonEl =\n",
              "        document.querySelector('#df-51d47d84-39c6-419a-9db1-77dac315f97a button.colab-df-convert');\n",
              "      buttonEl.style.display =\n",
              "        google.colab.kernel.accessAllowed ? 'block' : 'none';\n",
              "\n",
              "      async function convertToInteractive(key) {\n",
              "        const element = document.querySelector('#df-51d47d84-39c6-419a-9db1-77dac315f97a');\n",
              "        const dataTable =\n",
              "          await google.colab.kernel.invokeFunction('convertToInteractive',\n",
              "                                                    [key], {});\n",
              "        if (!dataTable) return;\n",
              "\n",
              "        const docLinkHtml = 'Like what you see? Visit the ' +\n",
              "          '<a target=\"_blank\" href=https://colab.research.google.com/notebooks/data_table.ipynb>data table notebook</a>'\n",
              "          + ' to learn more about interactive tables.';\n",
              "        element.innerHTML = '';\n",
              "        dataTable['output_type'] = 'display_data';\n",
              "        await google.colab.output.renderOutput(dataTable, element);\n",
              "        const docLink = document.createElement('div');\n",
              "        docLink.innerHTML = docLinkHtml;\n",
              "        element.appendChild(docLink);\n",
              "      }\n",
              "    </script>\n",
              "  </div>\n",
              "\n",
              "\n",
              "<div id=\"df-5bde6b6e-210b-47c2-994d-0d3331d4ed94\">\n",
              "  <button class=\"colab-df-quickchart\" onclick=\"quickchart('df-5bde6b6e-210b-47c2-994d-0d3331d4ed94')\"\n",
              "            title=\"Suggest charts\"\n",
              "            style=\"display:none;\">\n",
              "\n",
              "<svg xmlns=\"http://www.w3.org/2000/svg\" height=\"24px\"viewBox=\"0 0 24 24\"\n",
              "     width=\"24px\">\n",
              "    <g>\n",
              "        <path d=\"M19 3H5c-1.1 0-2 .9-2 2v14c0 1.1.9 2 2 2h14c1.1 0 2-.9 2-2V5c0-1.1-.9-2-2-2zM9 17H7v-7h2v7zm4 0h-2V7h2v10zm4 0h-2v-4h2v4z\"/>\n",
              "    </g>\n",
              "</svg>\n",
              "  </button>\n",
              "\n",
              "<style>\n",
              "  .colab-df-quickchart {\n",
              "      --bg-color: #E8F0FE;\n",
              "      --fill-color: #1967D2;\n",
              "      --hover-bg-color: #E2EBFA;\n",
              "      --hover-fill-color: #174EA6;\n",
              "      --disabled-fill-color: #AAA;\n",
              "      --disabled-bg-color: #DDD;\n",
              "  }\n",
              "\n",
              "  [theme=dark] .colab-df-quickchart {\n",
              "      --bg-color: #3B4455;\n",
              "      --fill-color: #D2E3FC;\n",
              "      --hover-bg-color: #434B5C;\n",
              "      --hover-fill-color: #FFFFFF;\n",
              "      --disabled-bg-color: #3B4455;\n",
              "      --disabled-fill-color: #666;\n",
              "  }\n",
              "\n",
              "  .colab-df-quickchart {\n",
              "    background-color: var(--bg-color);\n",
              "    border: none;\n",
              "    border-radius: 50%;\n",
              "    cursor: pointer;\n",
              "    display: none;\n",
              "    fill: var(--fill-color);\n",
              "    height: 32px;\n",
              "    padding: 0;\n",
              "    width: 32px;\n",
              "  }\n",
              "\n",
              "  .colab-df-quickchart:hover {\n",
              "    background-color: var(--hover-bg-color);\n",
              "    box-shadow: 0 1px 2px rgba(60, 64, 67, 0.3), 0 1px 3px 1px rgba(60, 64, 67, 0.15);\n",
              "    fill: var(--button-hover-fill-color);\n",
              "  }\n",
              "\n",
              "  .colab-df-quickchart-complete:disabled,\n",
              "  .colab-df-quickchart-complete:disabled:hover {\n",
              "    background-color: var(--disabled-bg-color);\n",
              "    fill: var(--disabled-fill-color);\n",
              "    box-shadow: none;\n",
              "  }\n",
              "\n",
              "  .colab-df-spinner {\n",
              "    border: 2px solid var(--fill-color);\n",
              "    border-color: transparent;\n",
              "    border-bottom-color: var(--fill-color);\n",
              "    animation:\n",
              "      spin 1s steps(1) infinite;\n",
              "  }\n",
              "\n",
              "  @keyframes spin {\n",
              "    0% {\n",
              "      border-color: transparent;\n",
              "      border-bottom-color: var(--fill-color);\n",
              "      border-left-color: var(--fill-color);\n",
              "    }\n",
              "    20% {\n",
              "      border-color: transparent;\n",
              "      border-left-color: var(--fill-color);\n",
              "      border-top-color: var(--fill-color);\n",
              "    }\n",
              "    30% {\n",
              "      border-color: transparent;\n",
              "      border-left-color: var(--fill-color);\n",
              "      border-top-color: var(--fill-color);\n",
              "      border-right-color: var(--fill-color);\n",
              "    }\n",
              "    40% {\n",
              "      border-color: transparent;\n",
              "      border-right-color: var(--fill-color);\n",
              "      border-top-color: var(--fill-color);\n",
              "    }\n",
              "    60% {\n",
              "      border-color: transparent;\n",
              "      border-right-color: var(--fill-color);\n",
              "    }\n",
              "    80% {\n",
              "      border-color: transparent;\n",
              "      border-right-color: var(--fill-color);\n",
              "      border-bottom-color: var(--fill-color);\n",
              "    }\n",
              "    90% {\n",
              "      border-color: transparent;\n",
              "      border-bottom-color: var(--fill-color);\n",
              "    }\n",
              "  }\n",
              "</style>\n",
              "\n",
              "  <script>\n",
              "    async function quickchart(key) {\n",
              "      const quickchartButtonEl =\n",
              "        document.querySelector('#' + key + ' button');\n",
              "      quickchartButtonEl.disabled = true;  // To prevent multiple clicks.\n",
              "      quickchartButtonEl.classList.add('colab-df-spinner');\n",
              "      try {\n",
              "        const charts = await google.colab.kernel.invokeFunction(\n",
              "            'suggestCharts', [key], {});\n",
              "      } catch (error) {\n",
              "        console.error('Error during call to suggestCharts:', error);\n",
              "      }\n",
              "      quickchartButtonEl.classList.remove('colab-df-spinner');\n",
              "      quickchartButtonEl.classList.add('colab-df-quickchart-complete');\n",
              "    }\n",
              "    (() => {\n",
              "      let quickchartButtonEl =\n",
              "        document.querySelector('#df-5bde6b6e-210b-47c2-994d-0d3331d4ed94 button');\n",
              "      quickchartButtonEl.style.display =\n",
              "        google.colab.kernel.accessAllowed ? 'block' : 'none';\n",
              "    })();\n",
              "  </script>\n",
              "</div>\n",
              "\n",
              "    </div>\n",
              "  </div>\n"
            ],
            "application/vnd.google.colaboratory.intrinsic+json": {
              "type": "dataframe",
              "variable_name": "lines",
              "summary": "{\n  \"name\": \"lines\",\n  \"rows\": 10000,\n  \"fields\": [\n    {\n      \"column\": \"eng\",\n      \"properties\": {\n        \"dtype\": \"string\",\n        \"num_unique_values\": 9485,\n        \"samples\": [\n          \"im really cold\",\n          \"he cured my illness\",\n          \"you never get my jokes\"\n        ],\n        \"semantic_type\": \"\",\n        \"description\": \"\"\n      }\n    },\n    {\n      \"column\": \"chin\",\n      \"properties\": {\n        \"dtype\": \"string\",\n        \"num_unique_values\": 9003,\n        \"samples\": [\n          \"<START> \\u6e6f\\u59c6\\u4e5f\\u5b78\\u6cd5\\u8a9e\\u3002 <END>\",\n          \"<START> \\u201c\\u4f60\\u611f\\u89c9\\u600e\\u4e48\\u6837\\uff1f\\u201d\\u4ed6\\u95ee\\u3002 <END>\",\n          \"<START> \\u7236\\u4eb2\\u5728\\u6d47\\u82b1\\u3002 <END>\"\n        ],\n        \"semantic_type\": \"\",\n        \"description\": \"\"\n      }\n    }\n  ]\n}"
            }
          },
          "metadata": {},
          "execution_count": 25
        }
      ],
      "source": [
        "# shuffling the lines to make better predictions\n",
        "lines = shuffle(lines)\n",
        "lines.head(5)"
      ]
    },
    {
      "cell_type": "markdown",
      "metadata": {
        "deletable": false,
        "editable": false,
        "id": "ciFxeS0l0-Gy",
        "nbgrader": {
          "cell_type": "markdown",
          "checksum": "e855f52ea26ed6a78b5271614a523804",
          "grade": false,
          "grade_id": "cell-4874858156792ac3",
          "locked": true,
          "schema_version": 3,
          "solution": false,
          "task": false
        }
      },
      "source": [
        "### Train-Test Split\n"
      ]
    },
    {
      "cell_type": "code",
      "execution_count": 26,
      "metadata": {
        "deletable": false,
        "editable": false,
        "id": "U8-wDveew6Ma",
        "nbgrader": {
          "cell_type": "code",
          "checksum": "a7eedfd692c48276f98708a8a8409bcd",
          "grade": false,
          "grade_id": "cell-711ad7496e8d5a8c",
          "locked": true,
          "schema_version": 3,
          "solution": false,
          "task": false
        },
        "colab": {
          "base_uri": "https://localhost:8080/"
        },
        "outputId": "dd7a023a-725f-4ca2-f76a-1cd8971c4b8a"
      },
      "outputs": [
        {
          "output_type": "execute_result",
          "data": {
            "text/plain": [
              "((9000,), (1000,))"
            ]
          },
          "metadata": {},
          "execution_count": 26
        }
      ],
      "source": [
        "# Train - Test Split\n",
        "X, y = lines.eng, lines.chin\n",
        "X_train, X_test, y_train, y_test = train_test_split(X, y, test_size = 0.1)\n",
        "X_train.shape, X_test.shape"
      ]
    },
    {
      "cell_type": "markdown",
      "metadata": {
        "deletable": false,
        "editable": false,
        "id": "zSVXqHNaLirV",
        "nbgrader": {
          "cell_type": "markdown",
          "checksum": "7857b81bc963cfe85ff7a67874257c74",
          "grade": false,
          "grade_id": "cell-9456558d54c0d0ea",
          "locked": true,
          "schema_version": 3,
          "solution": false,
          "task": false
        }
      },
      "source": [
        "Following code is to generate batch of training and testing data. If you are interested in the code you can go line by line and explore the details.\n"
      ]
    },
    {
      "cell_type": "code",
      "execution_count": 27,
      "metadata": {
        "deletable": false,
        "editable": false,
        "id": "kM-5q9lbw6Ma",
        "nbgrader": {
          "cell_type": "code",
          "checksum": "d776a860adbff380724704f73503def3",
          "grade": false,
          "grade_id": "cell-b1894cc022235615",
          "locked": true,
          "schema_version": 3,
          "solution": false,
          "task": false
        }
      },
      "outputs": [],
      "source": [
        "def generate_batch(X = X_train, y = y_train, batch_size = 128):\n",
        "    '''Function to generate a batch of data '''\n",
        "    for j in range(0, len(X), batch_size):\n",
        "        encoder_input_data = np.zeros((max_length_inp, batch_size),dtype='float32')\n",
        "        decoder_input_data = np.zeros((max_length_targ, batch_size),dtype='float32')\n",
        "        decoder_target_data = np.zeros((max_length_targ, batch_size ,num_decoder_tokens),dtype='float32')\n",
        "        for i, (input_text, target_text) in enumerate(zip(X[j:j+batch_size], y[j:j+batch_size])):\n",
        "            for t, word in enumerate(input_text.split()):\n",
        "                encoder_input_data[t, i] = input_token_index[word] # encoder input seq\n",
        "            for t, word in enumerate(target_text.split()):\n",
        "                if t<len(target_text.split())-1:\n",
        "                    decoder_input_data[t, i] = target_token_index[word] # decoder input seq\n",
        "                if t>0:\n",
        "                    # decoder target sequence (one hot encoded)\n",
        "                    # does not include the START_ token\n",
        "                    # Offset by one timestep\n",
        "                    decoder_target_data[t-1, i , target_token_index[word]] = 1.\n",
        "        yield([encoder_input_data, decoder_input_data], decoder_target_data)"
      ]
    },
    {
      "cell_type": "code",
      "execution_count": 28,
      "metadata": {
        "deletable": false,
        "editable": false,
        "id": "VrCmUOPX0dsn",
        "nbgrader": {
          "cell_type": "code",
          "checksum": "108ad531aae4affa988fcf9dbb1216f5",
          "grade": false,
          "grade_id": "cell-5ad4b7a3cc4da9e0",
          "locked": true,
          "schema_version": 3,
          "solution": false,
          "task": false
        }
      },
      "outputs": [],
      "source": [
        "# Input to the Encoder\n",
        "encoder_input_data = np.zeros((len(lines.eng), 9),dtype='float32')\n",
        "\n",
        "# output from the encoder or input to the decoder\n",
        "decoder_input_data = np.zeros((len(lines.chin), 5),dtype='float32')\n",
        "\n",
        "# output by the decoder\n",
        "decoder_target_data = np.zeros((len(lines.chin), 5, num_decoder_tokens),dtype='float32')"
      ]
    },
    {
      "cell_type": "code",
      "execution_count": 29,
      "metadata": {
        "deletable": false,
        "editable": false,
        "id": "z3QkOfY70hQK",
        "nbgrader": {
          "cell_type": "code",
          "checksum": "8dd8a7bcec06c4a8c969cf1ef6c956b0",
          "grade": false,
          "grade_id": "cell-3c9e2cbc956e1e63",
          "locked": true,
          "schema_version": 3,
          "solution": false,
          "task": false
        }
      },
      "outputs": [],
      "source": [
        "for i, (input_text, target_text) in enumerate(zip(lines.eng, lines.chin)):\n",
        "    for t, word in enumerate(input_text.split()):\n",
        "        encoder_input_data[i, t] = input_token_index[word]\n",
        "    for t, word in enumerate(target_text.split()):\n",
        "        decoder_input_data[i, t] = target_token_index[word]\n",
        "        if t > 0:\n",
        "            # decoder target data is ahead of decoder input by one timestep\n",
        "            decoder_target_data[i, t - 1, target_token_index[word]] = 1."
      ]
    },
    {
      "cell_type": "markdown",
      "metadata": {
        "deletable": false,
        "editable": false,
        "id": "aknXbSOLw6Mb",
        "nbgrader": {
          "cell_type": "markdown",
          "checksum": "d1acb35327047493c41527dbd89cd048",
          "grade": false,
          "grade_id": "cell-dbc8da1b20dbba17",
          "locked": true,
          "schema_version": 3,
          "solution": false,
          "task": false
        }
      },
      "source": [
        "### Encoder - Decoder Model Architecture\n"
      ]
    },
    {
      "cell_type": "code",
      "execution_count": 30,
      "metadata": {
        "deletable": false,
        "editable": false,
        "id": "7Wd_xqIbw6Mb",
        "nbgrader": {
          "cell_type": "code",
          "checksum": "eab08df97a955b75b73b334158d24f58",
          "grade": false,
          "grade_id": "cell-6e9227c55dc44051",
          "locked": true,
          "schema_version": 3,
          "solution": false,
          "task": false
        }
      },
      "outputs": [],
      "source": [
        "latent_dim = 50"
      ]
    },
    {
      "cell_type": "markdown",
      "metadata": {
        "deletable": false,
        "editable": false,
        "id": "BSPvU8Bn0-G0",
        "nbgrader": {
          "cell_type": "markdown",
          "checksum": "0d20248101d130edfd111600d207cd56",
          "grade": false,
          "grade_id": "cell-906a013f79181247",
          "locked": true,
          "schema_version": 3,
          "solution": false,
          "task": false
        }
      },
      "source": [
        "### Exercise 4\n",
        "\n",
        "<b><div style=\"text-align: right\">[POINTS: 4]</div></b>\n",
        "\n",
        "#### Task 1\n",
        "\n",
        "<b><div style=\"text-align: right\">[POINTS: 1]</div></b>\n",
        "Store the hidden state and context vector as a result of encoder outputs on variable `encoder_states`.\n",
        "\n",
        "Store in the form of [__hiddenstate__, __contextstate__]\n"
      ]
    },
    {
      "cell_type": "code",
      "execution_count": 31,
      "metadata": {
        "deletable": false,
        "id": "i5U5W2T9f7Qk",
        "nbgrader": {
          "cell_type": "code",
          "checksum": "63deee770ecdaabe4190ed7e5abe4859",
          "grade": false,
          "grade_id": "cell-5375e524cb9be57b",
          "locked": false,
          "schema_version": 3,
          "solution": true,
          "task": false
        },
        "tags": [
          "Ex-4-Task-1"
        ]
      },
      "outputs": [],
      "source": [
        "### Ex-4-Task-1\n",
        "# encoder_states = None\n",
        "\n",
        "# Encoder Architecture\n",
        "class Encoder(nn.Module):\n",
        "    def __init__(self, input_size, embedding_size, hidden_size):\n",
        "        super(Encoder, self).__init__()\n",
        "        self.input_size = input_size\n",
        "\n",
        "        self.embedding_size = embedding_size\n",
        "\n",
        "        self.hidden_size = hidden_size\n",
        "\n",
        "        self.embedding = nn.Embedding(self.input_size, self.embedding_size)\n",
        "\n",
        "        self.LSTM = nn.LSTM(self.embedding_size, self.hidden_size)\n",
        "\n",
        "    def forward(self, x):\n",
        "        embedding = self.embedding(x)\n",
        "        outputs, (hidden_state, cell_state) = self.LSTM(embedding)\n",
        "\n",
        "        ### BEGIN SOLUTION\n",
        "        # your code here\n",
        "        encoder_states = [hidden_state, cell_state]\n",
        "        ### END SOLUTION\n",
        "        return encoder_states"
      ]
    },
    {
      "cell_type": "code",
      "execution_count": 32,
      "metadata": {
        "deletable": false,
        "editable": false,
        "id": "sk67U0fRx212",
        "nbgrader": {
          "cell_type": "code",
          "checksum": "2aa9b3af095f8429833dca9530395f81",
          "grade": true,
          "grade_id": "cell-71c476202d589f78",
          "locked": true,
          "points": 1,
          "schema_version": 3,
          "solution": false,
          "task": false
        },
        "tags": [
          "Ex-4-Task-1"
        ]
      },
      "outputs": [],
      "source": [
        "# Intentionally left blank"
      ]
    },
    {
      "cell_type": "code",
      "execution_count": 33,
      "metadata": {
        "deletable": false,
        "editable": false,
        "id": "-miqEPX4f7Ql",
        "nbgrader": {
          "cell_type": "code",
          "checksum": "78b937a268a0f394a91de96f76b3a5e9",
          "grade": false,
          "grade_id": "cell-ddac4c4be3f9b645",
          "locked": true,
          "schema_version": 3,
          "solution": false,
          "task": false
        },
        "colab": {
          "base_uri": "https://localhost:8080/"
        },
        "outputId": "42044744-1338-4dfc-cbbd-a892fe6ab53b"
      },
      "outputs": [
        {
          "output_type": "stream",
          "name": "stdout",
          "text": [
            "Encoder(\n",
            "  (embedding): Embedding(3381, 50)\n",
            "  (LSTM): LSTM(50, 50)\n",
            ")\n"
          ]
        }
      ],
      "source": [
        "encoder = Encoder(num_encoder_tokens, latent_dim, latent_dim)\n",
        "print(encoder)"
      ]
    },
    {
      "cell_type": "code",
      "execution_count": 34,
      "metadata": {
        "deletable": false,
        "editable": false,
        "id": "jwgWEUvqf7Qm",
        "nbgrader": {
          "cell_type": "code",
          "checksum": "3763687430eae58b6cbbcb7e65d2c712",
          "grade": false,
          "grade_id": "cell-57a28a9db81414dd",
          "locked": true,
          "schema_version": 3,
          "solution": false,
          "task": false
        }
      },
      "outputs": [],
      "source": [
        "class Decoder(nn.Module):\n",
        "    def __init__(self, input_size, embedding_size, hidden_size, output_size):\n",
        "        super(Decoder, self).__init__()\n",
        "\n",
        "        # Size of the one hot vectors that will be the input to the decoder\n",
        "        self.input_size = input_size\n",
        "\n",
        "        # Output size of the word embedding NN\n",
        "        self.embedding_size = embedding_size\n",
        "\n",
        "        # Dimension of the NN's inside the lstm cell/ (hs,cs)'s dimension.\n",
        "        self.hidden_size = hidden_size\n",
        "\n",
        "        # Size of the one hot vectors that will be the output of the decoder\n",
        "        self.output_size = output_size\n",
        "\n",
        "        self.embedding = nn.Embedding(self.input_size, self.embedding_size)\n",
        "        self.LSTM = nn.LSTM(self.embedding_size, hidden_size)\n",
        "        self.fc = nn.Linear(self.hidden_size, self.output_size)\n",
        "\n",
        "    def forward(self, x, enc_states):\n",
        "        x = x.unsqueeze(0)\n",
        "        embedding = self.embedding(x)\n",
        "\n",
        "        # (passing encoder's hs, cs - context vectors)\n",
        "        outputs, (hidden_state, cell_state) = self.LSTM(embedding, enc_states)\n",
        "\n",
        "        predictions = self.fc(outputs)\n",
        "\n",
        "        predictions = predictions.squeeze(0)\n",
        "\n",
        "        decoder_states = (hidden_state, cell_state)\n",
        "\n",
        "        return predictions, decoder_states"
      ]
    },
    {
      "cell_type": "code",
      "execution_count": 35,
      "metadata": {
        "deletable": false,
        "editable": false,
        "id": "zuqq79h6f7Qm",
        "nbgrader": {
          "cell_type": "code",
          "checksum": "f14fa8d3ff8a10b6287be85df6c77281",
          "grade": false,
          "grade_id": "cell-5f7f0bed03f209a8",
          "locked": true,
          "schema_version": 3,
          "solution": false,
          "task": false
        },
        "colab": {
          "base_uri": "https://localhost:8080/"
        },
        "outputId": "383cefde-aa7a-492a-9a85-0b69dee9c74a"
      },
      "outputs": [
        {
          "output_type": "stream",
          "name": "stdout",
          "text": [
            "Decoder(\n",
            "  (embedding): Embedding(9024, 50)\n",
            "  (LSTM): LSTM(50, 50)\n",
            "  (fc): Linear(in_features=50, out_features=9024, bias=True)\n",
            ")\n"
          ]
        }
      ],
      "source": [
        "decoder = Decoder(num_decoder_tokens, latent_dim, latent_dim, num_decoder_tokens)\n",
        "print(decoder)"
      ]
    },
    {
      "cell_type": "code",
      "execution_count": 36,
      "metadata": {
        "deletable": false,
        "editable": false,
        "id": "ycS6r5fkf7Qm",
        "nbgrader": {
          "cell_type": "code",
          "checksum": "212805f25732ea0776a6ce3bd0a57458",
          "grade": false,
          "grade_id": "cell-c8fc9c2ef2ac84be",
          "locked": true,
          "schema_version": 3,
          "solution": false,
          "task": false
        }
      },
      "outputs": [],
      "source": [
        "class Seq2Seq(nn.Module):\n",
        "    def __init__(self, Encoder_LSTM, Decoder_LSTM):\n",
        "        super(Seq2Seq, self).__init__()\n",
        "        self.Encoder_LSTM = Encoder_LSTM\n",
        "        self.Decoder_LSTM = Decoder_LSTM\n",
        "\n",
        "    def forward(self, source, target, tfr=0.5):\n",
        "        batch_size = source.shape[1]\n",
        "\n",
        "        target_len = target.shape[0]\n",
        "        target_vocab_size = num_decoder_tokens\n",
        "\n",
        "        outputs = torch.zeros(target_len, batch_size, target_vocab_size)\n",
        "\n",
        "        hidden_state, cell_state = self.Encoder_LSTM(source)\n",
        "\n",
        "        x = target[0]\n",
        "\n",
        "        for i in range(1, target_len):\n",
        "            output, ( hidden_state, cell_state ) = self.Decoder_LSTM(x, (hidden_state, cell_state))\n",
        "            outputs[i] = output\n",
        "            best_guess = output.argmax(1) # 1st dimension is word embedding, 0th dimension is batchsize\n",
        "            x = target[i] if random.random() < tfr else best_guess # Either pass the next word correctly from the dataset or use the earlier predicted word\n",
        "\n",
        "        return outputs"
      ]
    },
    {
      "cell_type": "code",
      "execution_count": 37,
      "metadata": {
        "deletable": false,
        "editable": false,
        "id": "KxU_HH2mf7Qm",
        "nbgrader": {
          "cell_type": "code",
          "checksum": "c324a3bc939ea45333ebc3d6435cbf34",
          "grade": false,
          "grade_id": "cell-61d8cb7f520b0326",
          "locked": true,
          "schema_version": 3,
          "solution": false,
          "task": false
        }
      },
      "outputs": [],
      "source": [
        "# Hyperparameters\n",
        "\n",
        "learning_rate = 0.001\n",
        "step = 0\n",
        "\n",
        "model = Seq2Seq(encoder, decoder)\n",
        "optimizer = torch.optim.Adam(model.parameters(), lr=learning_rate)\n",
        "\n",
        "criterion = nn.CrossEntropyLoss()"
      ]
    },
    {
      "cell_type": "markdown",
      "metadata": {
        "deletable": false,
        "editable": false,
        "id": "xu-3m5qg0-G1",
        "nbgrader": {
          "cell_type": "markdown",
          "checksum": "07abc23b4cedabba832b7e15d98d3fef",
          "grade": false,
          "grade_id": "cell-cdd4235d80801b39",
          "locked": true,
          "schema_version": 3,
          "solution": false,
          "task": false
        }
      },
      "source": [
        "#### Task 2\n",
        "\n",
        "<b><div style=\"text-align: right\">[POINTS: 3]</div></b>\n",
        "Increase the number of epochs and train the model to obtain a good accuracy score.\n",
        "\n",
        "**Hint:**  \n",
        "change `num_epochs` to other higher values.\n"
      ]
    },
    {
      "cell_type": "code",
      "execution_count": 38,
      "metadata": {
        "deletable": false,
        "editable": false,
        "id": "cymSsIYQw6Me",
        "nbgrader": {
          "cell_type": "code",
          "checksum": "38a67eb038486a9db3fc03603d8b6ed6",
          "grade": false,
          "grade_id": "cell-d5ca1a01a0838cda",
          "locked": true,
          "schema_version": 3,
          "solution": false,
          "task": false
        }
      },
      "outputs": [],
      "source": [
        "# Some model hyperparameters\n",
        "train_samples = len(X_train)\n",
        "val_samples = len(X_test)\n",
        "batch_size = 256\n",
        "num_epochs = 4"
      ]
    },
    {
      "cell_type": "code",
      "execution_count": 39,
      "metadata": {
        "deletable": false,
        "editable": false,
        "id": "ZWX1460-zVv6",
        "nbgrader": {
          "cell_type": "code",
          "checksum": "1506343e4b40cdd6ca2faf2b9c5c3923",
          "grade": false,
          "grade_id": "cell-9fdc16b573193e9a",
          "locked": true,
          "schema_version": 3,
          "solution": false,
          "task": false
        },
        "colab": {
          "base_uri": "https://localhost:8080/"
        },
        "outputId": "f8562432-2488-4a80-a40d-135db72601a6"
      },
      "outputs": [
        {
          "output_type": "stream",
          "name": "stdout",
          "text": [
            "Epoch - 1 / 4\n",
            "Iterations / loss -  0 / 9.131697654724121\n",
            "\n",
            "Iterations / loss -  1 / 9.064218521118164\n",
            "\n",
            "Iterations / loss -  2 / 9.04025650024414\n",
            "\n",
            "Iterations / loss -  3 / 9.000730514526367\n",
            "\n",
            "Iterations / loss -  4 / 8.965473175048828\n",
            "\n",
            "Iterations / loss -  5 / 8.90120792388916\n",
            "\n",
            "Iterations / loss -  6 / 8.846637725830078\n",
            "\n",
            "Iterations / loss -  7 / 8.852087020874023\n",
            "\n",
            "Iterations / loss -  8 / 8.682409286499023\n",
            "\n",
            "Iterations / loss -  9 / 8.803621292114258\n",
            "\n",
            "Iterations / loss -  10 / 8.743844985961914\n",
            "\n",
            "Iterations / loss -  11 / 8.56927490234375\n",
            "\n",
            "Iterations / loss -  12 / 8.576199531555176\n",
            "\n",
            "Iterations / loss -  13 / 8.299700736999512\n",
            "\n",
            "Iterations / loss -  14 / 8.205255508422852\n",
            "\n",
            "Iterations / loss -  15 / 8.116576194763184\n",
            "\n",
            "Iterations / loss -  16 / 8.03214168548584\n",
            "\n",
            "Iterations / loss -  17 / 7.907978057861328\n",
            "\n",
            "Iterations / loss -  18 / 7.7924041748046875\n",
            "\n",
            "Iterations / loss -  19 / 7.664634704589844\n",
            "\n",
            "Iterations / loss -  20 / 7.540353775024414\n",
            "\n",
            "Iterations / loss -  21 / 7.425362586975098\n",
            "\n",
            "Iterations / loss -  22 / 7.279808521270752\n",
            "\n",
            "Iterations / loss -  23 / 7.151564598083496\n",
            "\n",
            "Iterations / loss -  24 / 7.010596752166748\n",
            "\n",
            "Iterations / loss -  25 / 6.882367134094238\n",
            "\n",
            "Iterations / loss -  26 / 6.721673965454102\n",
            "\n",
            "Iterations / loss -  27 / 6.579930305480957\n",
            "\n",
            "Iterations / loss -  28 / 6.43027925491333\n",
            "\n",
            "Iterations / loss -  29 / 6.280511856079102\n",
            "\n",
            "Iterations / loss -  30 / 6.1167311668396\n",
            "\n",
            "Iterations / loss -  31 / 5.967713356018066\n",
            "\n",
            "Iterations / loss -  32 / 5.817770004272461\n",
            "\n",
            "Iterations / loss -  33 / 5.666956901550293\n",
            "\n",
            "Iterations / loss -  34 / 5.508156776428223\n",
            "\n",
            "Iterations / loss -  35 / 5.368542671203613\n",
            "\n",
            "Epoch - 2 / 4\n",
            "Iterations / loss -  0 / 5.1925177574157715\n",
            "\n",
            "Iterations / loss -  1 / 5.040258407592773\n",
            "\n",
            "Iterations / loss -  2 / 4.895323753356934\n",
            "\n",
            "Iterations / loss -  3 / 4.7324676513671875\n",
            "\n",
            "Iterations / loss -  4 / 4.574474334716797\n",
            "\n",
            "Iterations / loss -  5 / 4.410680294036865\n",
            "\n",
            "Iterations / loss -  6 / 4.266723155975342\n",
            "\n",
            "Iterations / loss -  7 / 4.0998125076293945\n",
            "\n",
            "Iterations / loss -  8 / 3.958768606185913\n",
            "\n",
            "Iterations / loss -  9 / 3.7964396476745605\n",
            "\n",
            "Iterations / loss -  10 / 3.6416141986846924\n",
            "\n",
            "Iterations / loss -  11 / 3.4816396236419678\n",
            "\n",
            "Iterations / loss -  12 / 3.33443546295166\n",
            "\n",
            "Iterations / loss -  13 / 3.182466983795166\n",
            "\n",
            "Iterations / loss -  14 / 3.035017251968384\n",
            "\n",
            "Iterations / loss -  15 / 2.8995468616485596\n",
            "\n",
            "Iterations / loss -  16 / 2.7553935050964355\n",
            "\n",
            "Iterations / loss -  17 / 2.616953134536743\n",
            "\n",
            "Iterations / loss -  18 / 2.474031448364258\n",
            "\n",
            "Iterations / loss -  19 / 2.3430559635162354\n",
            "\n",
            "Iterations / loss -  20 / 2.2129266262054443\n",
            "\n",
            "Iterations / loss -  21 / 2.105902910232544\n",
            "\n",
            "Iterations / loss -  22 / 1.9758094549179077\n",
            "\n",
            "Iterations / loss -  23 / 1.8694672584533691\n",
            "\n",
            "Iterations / loss -  24 / 1.753420352935791\n",
            "\n",
            "Iterations / loss -  25 / 1.6563504934310913\n",
            "\n",
            "Iterations / loss -  26 / 1.5468593835830688\n",
            "\n",
            "Iterations / loss -  27 / 1.4796500205993652\n",
            "\n",
            "Iterations / loss -  28 / 1.37630033493042\n",
            "\n",
            "Iterations / loss -  29 / 1.2865865230560303\n",
            "\n",
            "Iterations / loss -  30 / 1.2010836601257324\n",
            "\n",
            "Iterations / loss -  31 / 1.132814884185791\n",
            "\n",
            "Iterations / loss -  32 / 1.0552750825881958\n",
            "\n",
            "Iterations / loss -  33 / 1.0009410381317139\n",
            "\n",
            "Iterations / loss -  34 / 0.9330205321311951\n",
            "\n",
            "Iterations / loss -  35 / 1.2665197849273682\n",
            "\n",
            "Epoch - 3 / 4\n",
            "Iterations / loss -  0 / 0.8191591501235962\n",
            "\n",
            "Iterations / loss -  1 / 0.7821739912033081\n",
            "\n",
            "Iterations / loss -  2 / 0.7276052236557007\n",
            "\n",
            "Iterations / loss -  3 / 0.6895675659179688\n",
            "\n",
            "Iterations / loss -  4 / 0.643330454826355\n",
            "\n",
            "Iterations / loss -  5 / 0.6005948185920715\n",
            "\n",
            "Iterations / loss -  6 / 0.5805754065513611\n",
            "\n",
            "Iterations / loss -  7 / 0.530515193939209\n",
            "\n",
            "Iterations / loss -  8 / 0.5158571600914001\n",
            "\n",
            "Iterations / loss -  9 / 0.4758860766887665\n",
            "\n",
            "Iterations / loss -  10 / 0.44518476724624634\n",
            "\n",
            "Iterations / loss -  11 / 0.4200400710105896\n",
            "\n",
            "Iterations / loss -  12 / 0.4060457944869995\n",
            "\n",
            "Iterations / loss -  13 / 0.37434685230255127\n",
            "\n",
            "Iterations / loss -  14 / 0.354991614818573\n",
            "\n",
            "Iterations / loss -  15 / 0.3526547849178314\n",
            "\n",
            "Iterations / loss -  16 / 0.31814396381378174\n",
            "\n",
            "Iterations / loss -  17 / 0.30223044753074646\n",
            "\n",
            "Iterations / loss -  18 / 0.2849850058555603\n",
            "\n",
            "Iterations / loss -  19 / 0.27225393056869507\n",
            "\n",
            "Iterations / loss -  20 / 0.25852227210998535\n",
            "\n",
            "Iterations / loss -  21 / 0.2609845995903015\n",
            "\n",
            "Iterations / loss -  22 / 0.2368346005678177\n",
            "\n",
            "Iterations / loss -  23 / 0.2380053848028183\n",
            "\n",
            "Iterations / loss -  24 / 0.21665214002132416\n",
            "\n",
            "Iterations / loss -  25 / 0.21826167404651642\n",
            "\n",
            "Iterations / loss -  26 / 0.1982574462890625\n",
            "\n",
            "Iterations / loss -  27 / 0.22572878003120422\n",
            "\n",
            "Iterations / loss -  28 / 0.19646579027175903\n",
            "\n",
            "Iterations / loss -  29 / 0.17763757705688477\n",
            "\n",
            "Iterations / loss -  30 / 0.17008213698863983\n",
            "\n",
            "Iterations / loss -  31 / 0.17629003524780273\n",
            "\n",
            "Iterations / loss -  32 / 0.1590677946805954\n",
            "\n",
            "Iterations / loss -  33 / 0.16392958164215088\n",
            "\n",
            "Iterations / loss -  34 / 0.15021736919879913\n",
            "\n",
            "Iterations / loss -  35 / 0.8617518544197083\n",
            "\n",
            "Epoch - 4 / 4\n",
            "Iterations / loss -  0 / 0.14135552942752838\n",
            "\n",
            "Iterations / loss -  1 / 0.15126803517341614\n",
            "\n",
            "Iterations / loss -  2 / 0.1343562752008438\n",
            "\n",
            "Iterations / loss -  3 / 0.14215703308582306\n",
            "\n",
            "Iterations / loss -  4 / 0.12831977009773254\n",
            "\n",
            "Iterations / loss -  5 / 0.12417164444923401\n",
            "\n",
            "Iterations / loss -  6 / 0.13524003326892853\n",
            "\n",
            "Iterations / loss -  7 / 0.11807562410831451\n",
            "\n",
            "Iterations / loss -  8 / 0.1264985054731369\n",
            "\n",
            "Iterations / loss -  9 / 0.1143902912735939\n",
            "\n",
            "Iterations / loss -  10 / 0.11101607233285904\n",
            "\n",
            "Iterations / loss -  11 / 0.10916603356599808\n",
            "\n",
            "Iterations / loss -  12 / 0.11903247237205505\n",
            "\n",
            "Iterations / loss -  13 / 0.10492309927940369\n",
            "\n",
            "Iterations / loss -  14 / 0.10390130430459976\n",
            "\n",
            "Iterations / loss -  15 / 0.12523899972438812\n",
            "\n",
            "Iterations / loss -  16 / 0.0989704355597496\n",
            "\n",
            "Iterations / loss -  17 / 0.09775269776582718\n",
            "\n",
            "Iterations / loss -  18 / 0.09554314613342285\n",
            "\n",
            "Iterations / loss -  19 / 0.09424344450235367\n",
            "\n",
            "Iterations / loss -  20 / 0.0924399122595787\n",
            "\n",
            "Iterations / loss -  21 / 0.10169295966625214\n",
            "\n",
            "Iterations / loss -  22 / 0.08970937132835388\n",
            "\n",
            "Iterations / loss -  23 / 0.10114119201898575\n",
            "\n",
            "Iterations / loss -  24 / 0.08646628260612488\n",
            "\n",
            "Iterations / loss -  25 / 0.09459471702575684\n",
            "\n",
            "Iterations / loss -  26 / 0.08357948064804077\n",
            "\n",
            "Iterations / loss -  27 / 0.1146482452750206\n",
            "\n",
            "Iterations / loss -  28 / 0.09167787432670593\n",
            "\n",
            "Iterations / loss -  29 / 0.0802333876490593\n",
            "\n",
            "Iterations / loss -  30 / 0.07871886342763901\n",
            "\n",
            "Iterations / loss -  31 / 0.09094834327697754\n",
            "\n",
            "Iterations / loss -  32 / 0.07690046727657318\n",
            "\n",
            "Iterations / loss -  33 / 0.08635995537042618\n",
            "\n",
            "Iterations / loss -  34 / 0.0752822756767273\n",
            "\n",
            "Iterations / loss -  35 / 0.8409123420715332\n",
            "\n"
          ]
        }
      ],
      "source": [
        "# Training the model\n",
        "epoch_loss = 0.0\n",
        "best_loss = 999999\n",
        "losses = []\n",
        "best_epoch = -1\n",
        "ts1  = []\n",
        "\n",
        "for epoch in range(num_epochs):\n",
        "    epoch_loss_list = []\n",
        "    print(\"Epoch - {} / {}\".format(epoch+1, num_epochs))\n",
        "\n",
        "\n",
        "    model.train(True)\n",
        "    for batch_idx, ( input_data, target_data ) in enumerate(generate_batch(batch_size=batch_size)):\n",
        "        input_data_enc = torch.tensor(input_data[0]).long()\n",
        "        input_data_dec = torch.tensor(input_data[1]).long()\n",
        "        target = torch.tensor(target_data.argmax(2)).long()\n",
        "\n",
        "        # Pass the input and target for model's forward method\n",
        "        output = model(input_data_enc, target)\n",
        "        output = output[1:].reshape(-1, output.shape[2])\n",
        "        target = target[1:].reshape(-1)\n",
        "\n",
        "        # Clear the accumulating gradients\n",
        "        optimizer.zero_grad()\n",
        "\n",
        "        # Calculate the loss value for every epoch\n",
        "        loss = criterion(output, target)\n",
        "\n",
        "        # Calculate the gradients for weights & biases using back-propagation\n",
        "        loss.backward()\n",
        "\n",
        "        # Update the weights values using the gradients we calculated using bp\n",
        "        optimizer.step()\n",
        "        step += 1\n",
        "        epoch_loss += loss.item()\n",
        "\n",
        "        epoch_loss_list.append(loss.item())\n",
        "\n",
        "        if epoch_loss < best_loss:\n",
        "            best_loss = epoch_loss\n",
        "            best_epoch = epoch\n",
        "        if ((epoch - best_epoch) >= 10):\n",
        "            print(\"no improvement in 10 epochs, break\")\n",
        "            break\n",
        "        print(\"Iterations / loss -  {} / {}\".format(batch_idx,loss.item()))\n",
        "        print()\n",
        "    losses.append(np.mean(epoch_loss_list))\n",
        "\n",
        "torch.save({\n",
        "          'model_state_dict': model.state_dict(),\n",
        "          'loss': losses\n",
        "          },\"lstm_seq2seq.pb\")"
      ]
    },
    {
      "cell_type": "markdown",
      "source": [
        "**Q. Store the model's loss**\n",
        "\n",
        "**Hint:**   \n",
        "Last item from `losses`"
      ],
      "metadata": {
        "id": "Yq-tIzniliyb"
      }
    },
    {
      "cell_type": "code",
      "execution_count": 40,
      "metadata": {
        "deletable": false,
        "id": "K1kgspYr0-G1",
        "nbgrader": {
          "cell_type": "code",
          "checksum": "a606c7517aefd327f82ecdc8c1e0c180",
          "grade": false,
          "grade_id": "cell-404e9c0d68a46c7c",
          "locked": false,
          "schema_version": 3,
          "solution": true
        },
        "tags": [
          "Ex-4-Task-2"
        ]
      },
      "outputs": [],
      "source": [
        "### Ex-4-Task-2\n",
        "loss = None\n",
        "\n",
        "# Model Loss\n",
        "# Store the model's loss from trained above\n",
        "\n",
        "# Exercise 4 | Task 2\n",
        "### BEGIN SOLUTION\n",
        "# your code here\n",
        "loss = losses[-1]\n",
        "### END SOLUTION"
      ]
    },
    {
      "cell_type": "code",
      "execution_count": 41,
      "metadata": {
        "deletable": false,
        "editable": false,
        "id": "AUJwO-z2LORt",
        "nbgrader": {
          "cell_type": "code",
          "checksum": "fe4b6e1a7da659d7d7bb61358f49fe84",
          "grade": false,
          "grade_id": "cell-cd972e8c828f74d6",
          "locked": true,
          "schema_version": 3,
          "solution": false,
          "task": false
        },
        "colab": {
          "base_uri": "https://localhost:8080/"
        },
        "outputId": "be0ed7e2-3ea4-44a3-ce7f-70a66164b3df"
      },
      "outputs": [
        {
          "output_type": "execute_result",
          "data": {
            "text/plain": [
              "0.1266923921389712"
            ]
          },
          "metadata": {},
          "execution_count": 41
        }
      ],
      "source": [
        "loss"
      ]
    },
    {
      "cell_type": "code",
      "execution_count": 42,
      "metadata": {
        "deletable": false,
        "editable": false,
        "id": "rcMS1UgA0-G1",
        "nbgrader": {
          "cell_type": "code",
          "checksum": "7f502d775a57040c58d4ee2ec8f3023d",
          "grade": true,
          "grade_id": "cell-2c02ab4a9929d13a",
          "locked": true,
          "points": 3,
          "schema_version": 3,
          "solution": false
        },
        "tags": [
          "Ex-4-Task-2"
        ]
      },
      "outputs": [],
      "source": [
        "#INTENTIONALLY LEFT BLANK\n",
        "assert loss is not None"
      ]
    },
    {
      "cell_type": "markdown",
      "metadata": {
        "deletable": false,
        "editable": false,
        "id": "h50t4Y7f0-G1",
        "nbgrader": {
          "cell_type": "markdown",
          "checksum": "d560f9d70599bdd447567969c6bb2f08",
          "grade": false,
          "grade_id": "cell-8989e398a4400b6e",
          "locked": true,
          "schema_version": 3,
          "solution": false,
          "task": false
        }
      },
      "source": [
        "Now, after we performed some preprocessing and model training steps, then we will start working on the model inferencing. We will see how well the model predicts the results. Also, we will discover what can be the possible solution to this problem.\n",
        "\n",
        "If we look at the model training results, we can see that the model is not performing really well. This may be because the LSTM network we are using is not able to learn the appropriate feature inputs. The no. of tokens is also pretty large which is giving the model a hard time to learn the input feature itself. So, the possible solution to these problems could be the `Attention Mechanisms`. We have not used attention mechanism, however if we use attention mechanism the result will surely turn out better.\n",
        "\n",
        "Moreover, we can validate the performance of the model by also inferencing on the model.\n"
      ]
    },
    {
      "cell_type": "markdown",
      "metadata": {
        "deletable": false,
        "editable": false,
        "id": "vm-p0L85w6Mi",
        "nbgrader": {
          "cell_type": "markdown",
          "checksum": "8c8a39c7744b369949a86787e8834f7f",
          "grade": false,
          "grade_id": "cell-c942df3936e27c26",
          "locked": true,
          "schema_version": 3,
          "solution": false,
          "task": false
        }
      },
      "source": [
        "### Decode Sample Sequences\n",
        "\n",
        "Following is the code to decode the input sequence to the machine translation network.\n"
      ]
    },
    {
      "cell_type": "code",
      "execution_count": 43,
      "metadata": {
        "deletable": false,
        "editable": false,
        "id": "SEf9I1brw6Mi",
        "nbgrader": {
          "cell_type": "code",
          "checksum": "5a0b45c69b73e5f81bf61c8626dadf94",
          "grade": false,
          "grade_id": "cell-5ed91b4ae4003424",
          "locked": true,
          "schema_version": 3,
          "solution": false,
          "task": false
        }
      },
      "outputs": [],
      "source": [
        "model = Seq2Seq(Encoder(num_encoder_tokens, latent_dim, latent_dim), Decoder(num_decoder_tokens, latent_dim, latent_dim, num_decoder_tokens))\n",
        "\n",
        "\n",
        "checkpoint = torch.load(\"lstm_seq2seq.pb\")\n",
        "model.load_state_dict(checkpoint['model_state_dict'])\n",
        "\n",
        "def decode_sequence(sentence, max_length=50):\n",
        "    model.eval()\n",
        "    # lower, removing punctuations,\n",
        "    tokens =  (''.join(char for char in re.sub(\" +\", \" \", re.sub(\"'\", '', sentence).lower()) if char not in sets_of_punctuations)).split()\n",
        "\n",
        "    text_to_indices = [ input_token_index[token] for token in tokens]\n",
        "    sentence_tensor = torch.LongTensor(text_to_indices).unsqueeze(1)\n",
        "\n",
        "    # Build encoder hidden, cell state\n",
        "    with torch.no_grad():\n",
        "        hidden, cell = model.Encoder_LSTM(sentence_tensor)\n",
        "\n",
        "    outputs = [target_token_index[\"<START>\"]]\n",
        "\n",
        "    for _ in range(max_length):\n",
        "        previous_word = torch.LongTensor([outputs[-1]])\n",
        "\n",
        "        with torch.no_grad():\n",
        "            output, ( hidden, cell ) = model.Decoder_LSTM(previous_word, (hidden, cell))\n",
        "            best_guess = output.argmax(1).item()\n",
        "\n",
        "        outputs.append(best_guess)\n",
        "\n",
        "        # Model predicts it's the end of the sentence\n",
        "        if best_guess == \"<END>\":\n",
        "            break\n",
        "\n",
        "    translated_sentence = [reverse_target_char_index.get(idx, '<PAD>') for idx in outputs]\n",
        "    return translated_sentence[1:]"
      ]
    },
    {
      "cell_type": "markdown",
      "metadata": {
        "deletable": false,
        "editable": false,
        "id": "nlUCxJsnw6Mj",
        "nbgrader": {
          "cell_type": "markdown",
          "checksum": "763c22c34ded6325c5ad21a2a9355592",
          "grade": false,
          "grade_id": "cell-c83a2b40557db068",
          "locked": true,
          "schema_version": 3,
          "solution": false,
          "task": false
        }
      },
      "source": [
        "### Evaluation on Train Dataset\n",
        "\n",
        "Generating the sample to check some of the results predicted by the machine\n"
      ]
    },
    {
      "cell_type": "code",
      "execution_count": 44,
      "metadata": {
        "deletable": false,
        "editable": false,
        "id": "C_pmnLSGw6Mk",
        "nbgrader": {
          "cell_type": "code",
          "checksum": "62ea65b73b7feb701332ebb26bccf2e2",
          "grade": false,
          "grade_id": "cell-5ecd5fc414a45548",
          "locked": true,
          "schema_version": 3,
          "solution": false,
          "task": false
        },
        "colab": {
          "base_uri": "https://localhost:8080/"
        },
        "outputId": "4fe685d1-454a-4354-dca2-3d7a3e01b07b"
      },
      "outputs": [
        {
          "output_type": "stream",
          "name": "stdout",
          "text": [
            "Input English sentence: move over\n",
            "Actual Chinese Translation: <START> 腾一下地方。 <END>\n",
            "Predicted Chinese Translation: ['<END>', '<PAD>', '<PAD>', '<PAD>', '<PAD>', '<PAD>', '<PAD>', '<PAD>', '<PAD>', '<PAD>', '<PAD>', '<PAD>', '<PAD>', '<PAD>', '<PAD>', '<PAD>', '<PAD>', '<PAD>', '<PAD>', '<PAD>', '<PAD>', '<PAD>', '<PAD>', '<PAD>', '<PAD>', '<PAD>', '<PAD>', '<PAD>', '<PAD>', '<PAD>', '<PAD>', '<PAD>', '<PAD>', '<PAD>', '<PAD>', '<PAD>', '<PAD>', '<PAD>', '<PAD>', '<PAD>', '<PAD>', '<PAD>', '<PAD>', '<PAD>', '<PAD>', '<PAD>', '<PAD>', '<PAD>', '<PAD>', '<PAD>']\n"
          ]
        }
      ],
      "source": [
        "k=0\n",
        "decoded_sentence = decode_sequence(X_train[k:k+1].values[0])\n",
        "print('Input English sentence:', X_train[k:k+1].values[0])\n",
        "print('Actual Chinese Translation:', y_train[k:k+1].values[0])\n",
        "print('Predicted Chinese Translation:', decoded_sentence)"
      ]
    },
    {
      "cell_type": "code",
      "execution_count": 45,
      "metadata": {
        "deletable": false,
        "editable": false,
        "id": "t9-tBDjSw6Mk",
        "nbgrader": {
          "cell_type": "code",
          "checksum": "2cb0841aa20be247dc2cfa65c9ff8f81",
          "grade": false,
          "grade_id": "cell-ed8c1f20e44cf9ea",
          "locked": true,
          "schema_version": 3,
          "solution": false,
          "task": false
        },
        "colab": {
          "base_uri": "https://localhost:8080/"
        },
        "outputId": "feee7bbd-80d2-44ec-a26b-330f3c31f977"
      },
      "outputs": [
        {
          "output_type": "stream",
          "name": "stdout",
          "text": [
            "Input English sentence: what are you doing now\n",
            "Actual Chinese Translation: <START> 你現在在做什麼？ <END>\n",
            "Predicted Chinese Translation: ['<END>', '<PAD>', '<PAD>', '<PAD>', '<PAD>', '<PAD>', '<PAD>', '<PAD>', '<PAD>', '<PAD>', '<PAD>', '<PAD>', '<PAD>', '<PAD>', '<PAD>', '<PAD>', '<PAD>', '<PAD>', '<PAD>', '<PAD>', '<PAD>', '<PAD>', '<PAD>', '<PAD>', '<PAD>', '<PAD>', '<PAD>', '<PAD>', '<PAD>', '<PAD>', '<PAD>', '<PAD>', '<PAD>', '<PAD>', '<PAD>', '<PAD>', '<PAD>', '<PAD>', '<PAD>', '<PAD>', '<PAD>', '<PAD>', '<PAD>', '<PAD>', '<PAD>', '<PAD>', '<PAD>', '<PAD>', '<PAD>', '<PAD>']\n"
          ]
        }
      ],
      "source": [
        "k+=1\n",
        "decoded_sentence = decode_sequence(X_train[k:k+1].values[0])\n",
        "print('Input English sentence:', X_train[k:k+1].values[0])\n",
        "print('Actual Chinese Translation:', y_train[k:k+1].values[0])\n",
        "print('Predicted Chinese Translation:', decoded_sentence)"
      ]
    },
    {
      "cell_type": "code",
      "execution_count": 46,
      "metadata": {
        "deletable": false,
        "editable": false,
        "id": "3TZxb_9Yw6Ml",
        "nbgrader": {
          "cell_type": "code",
          "checksum": "b5fa51f0d95647f9eabb3536d3f3ffc8",
          "grade": false,
          "grade_id": "cell-415bd9a5589e425e",
          "locked": true,
          "schema_version": 3,
          "solution": false,
          "task": false
        },
        "colab": {
          "base_uri": "https://localhost:8080/"
        },
        "outputId": "81b7f41b-b930-4cda-e950-1e0a5779311a"
      },
      "outputs": [
        {
          "output_type": "stream",
          "name": "stdout",
          "text": [
            "Input English sentence: this is all i know\n",
            "Actual Chinese Translation: <START> 這是我所知道的。 <END>\n",
            "Predicted Chinese Translation: ['<END>', '<PAD>', '<PAD>', '<PAD>', '<PAD>', '<PAD>', '<PAD>', '<PAD>', '<PAD>', '<PAD>', '<PAD>', '<PAD>', '<PAD>', '<PAD>', '<PAD>', '<PAD>', '<PAD>', '<PAD>', '<PAD>', '<PAD>', '<PAD>', '<PAD>', '<PAD>', '<PAD>', '<PAD>', '<PAD>', '<PAD>', '<PAD>', '<PAD>', '<PAD>', '<PAD>', '<PAD>', '<PAD>', '<PAD>', '<PAD>', '<PAD>', '<PAD>', '<PAD>', '<PAD>', '<PAD>', '<PAD>', '<PAD>', '<PAD>', '<PAD>', '<PAD>', '<PAD>', '<PAD>', '<PAD>', '<PAD>', '<PAD>']\n"
          ]
        }
      ],
      "source": [
        "k+=1\n",
        "decoded_sentence = decode_sequence(X_train[k:k+1].values[0])\n",
        "print('Input English sentence:', X_train[k:k+1].values[0])\n",
        "print('Actual Chinese Translation:', y_train[k:k+1].values[0])\n",
        "print('Predicted Chinese Translation:', decoded_sentence)"
      ]
    },
    {
      "cell_type": "code",
      "execution_count": 47,
      "metadata": {
        "deletable": false,
        "editable": false,
        "id": "udM3JsI9w6Ml",
        "nbgrader": {
          "cell_type": "code",
          "checksum": "1e0a03d70e00916d5e4b79b1f091cb4e",
          "grade": false,
          "grade_id": "cell-7fcb2d3381bba963",
          "locked": true,
          "schema_version": 3,
          "solution": false,
          "task": false
        },
        "colab": {
          "base_uri": "https://localhost:8080/"
        },
        "outputId": "6433a829-7372-403e-cf2a-5a3d38274e54"
      },
      "outputs": [
        {
          "output_type": "stream",
          "name": "stdout",
          "text": [
            "Input English sentence: good luck on the test\n",
            "Actual Chinese Translation: <START> 祝考试好运 <END>\n",
            "Predicted Chinese Translation: ['<END>', '<PAD>', '<PAD>', '<PAD>', '<PAD>', '<PAD>', '<PAD>', '<PAD>', '<PAD>', '<PAD>', '<PAD>', '<PAD>', '<PAD>', '<PAD>', '<PAD>', '<PAD>', '<PAD>', '<PAD>', '<PAD>', '<PAD>', '<PAD>', '<PAD>', '<PAD>', '<PAD>', '<PAD>', '<PAD>', '<PAD>', '<PAD>', '<PAD>', '<PAD>', '<PAD>', '<PAD>', '<PAD>', '<PAD>', '<PAD>', '<PAD>', '<PAD>', '<PAD>', '<PAD>', '<PAD>', '<PAD>', '<PAD>', '<PAD>', '<PAD>', '<PAD>', '<PAD>', '<PAD>', '<PAD>', '<PAD>', '<PAD>']\n"
          ]
        }
      ],
      "source": [
        "k+=1\n",
        "decoded_sentence = decode_sequence(X_train[k:k+1].values[0])\n",
        "print('Input English sentence:', X_train[k:k+1].values[0])\n",
        "print('Actual Chinese Translation:', y_train[k:k+1].values[0])\n",
        "print('Predicted Chinese Translation:', decoded_sentence)"
      ]
    },
    {
      "cell_type": "code",
      "execution_count": 48,
      "metadata": {
        "deletable": false,
        "editable": false,
        "id": "dCL7Qdt5w6Mm",
        "nbgrader": {
          "cell_type": "code",
          "checksum": "f36cbe941bac7f99dbc50e5e80d1c331",
          "grade": false,
          "grade_id": "cell-5e36305a19daeb11",
          "locked": true,
          "schema_version": 3,
          "solution": false,
          "task": false
        },
        "colab": {
          "base_uri": "https://localhost:8080/"
        },
        "outputId": "8571e480-5ea5-4b84-e516-e7ba683f310b"
      },
      "outputs": [
        {
          "output_type": "stream",
          "name": "stdout",
          "text": [
            "Input English sentence: youve got a lot of guts\n",
            "Actual Chinese Translation: <START> 你膽子很大。 <END>\n",
            "Predicted Chinese Translation: ['<END>', '<PAD>', '<PAD>', '<PAD>', '<PAD>', '<PAD>', '<PAD>', '<PAD>', '<PAD>', '<PAD>', '<PAD>', '<PAD>', '<PAD>', '<PAD>', '<PAD>', '<PAD>', '<PAD>', '<PAD>', '<PAD>', '<PAD>', '<PAD>', '<PAD>', '<PAD>', '<PAD>', '<PAD>', '<PAD>', '<PAD>', '<PAD>', '<PAD>', '<PAD>', '<PAD>', '<PAD>', '<PAD>', '<PAD>', '<PAD>', '<PAD>', '<PAD>', '<PAD>', '<PAD>', '<PAD>', '<PAD>', '<PAD>', '<PAD>', '<PAD>', '<PAD>', '<PAD>', '<PAD>', '<PAD>', '<PAD>', '<PAD>']\n"
          ]
        }
      ],
      "source": [
        "k+=1\n",
        "decoded_sentence = decode_sequence(X_train[k:k+1].values[0])\n",
        "print('Input English sentence:', X_train[k:k+1].values[0])\n",
        "print('Actual Chinese Translation:', y_train[k:k+1].values[0])\n",
        "print('Predicted Chinese Translation:', decoded_sentence)"
      ]
    },
    {
      "cell_type": "markdown",
      "metadata": {
        "deletable": false,
        "editable": false,
        "id": "eGmUTVPS0-G3",
        "nbgrader": {
          "cell_type": "markdown",
          "checksum": "4482e01ff125db80d9d6e06049834443",
          "grade": false,
          "grade_id": "cell-b60c247b0c3f991f",
          "locked": true,
          "schema_version": 3,
          "solution": false,
          "task": false
        }
      },
      "source": [
        "CONGRATULATIONS!!! on completing the Assignment.\n"
      ]
    }
  ],
  "metadata": {
    "accelerator": "GPU",
    "colab": {
      "provenance": []
    },
    "kernelspec": {
      "display_name": "Python 3 (ipykernel)",
      "language": "python",
      "name": "python3"
    },
    "language_info": {
      "codemirror_mode": {
        "name": "ipython",
        "version": 3
      },
      "file_extension": ".py",
      "mimetype": "text/x-python",
      "name": "python",
      "nbconvert_exporter": "python",
      "pygments_lexer": "ipython3",
      "version": "3.7.3"
    }
  },
  "nbformat": 4,
  "nbformat_minor": 0
}